{
 "cells": [
  {
   "cell_type": "code",
   "execution_count": 34,
   "metadata": {},
   "outputs": [],
   "source": [
    "import evaluate\n",
    "import pandas as pd\n",
    "import json\n",
    "seqeval = evaluate.load(\"seqeval\")\n",
    "prediction_files=[\"train_english_chatgpt.csv\",\"train_french_chatgpt.csv\",\"train_japanese_chatgpt.csv\",\"train_spanish_chatgpt.csv\"]"
   ]
  },
  {
   "cell_type": "code",
   "execution_count": 47,
   "metadata": {},
   "outputs": [
    {
     "name": "stderr",
     "output_type": "stream",
     "text": [
      "/home/hjz/.pyenv/versions/3.11.7/lib/python3.11/site-packages/seqeval/metrics/v1.py:57: UndefinedMetricWarning: Recall and F-score are ill-defined and being set to 0.0 in labels with no true samples. Use `zero_division` parameter to control this behavior.\n",
      "  _warn_prf(average, modifier, msg_start, len(result))\n",
      "/home/hjz/.pyenv/versions/3.11.7/lib/python3.11/site-packages/seqeval/metrics/v1.py:57: UndefinedMetricWarning: Recall and F-score are ill-defined and being set to 0.0 in labels with no true samples. Use `zero_division` parameter to control this behavior.\n",
      "  _warn_prf(average, modifier, msg_start, len(result))\n",
      "/home/hjz/.pyenv/versions/3.11.7/lib/python3.11/site-packages/seqeval/metrics/v1.py:57: UndefinedMetricWarning: Recall and F-score are ill-defined and being set to 0.0 in labels with no true samples. Use `zero_division` parameter to control this behavior.\n",
      "  _warn_prf(average, modifier, msg_start, len(result))\n",
      "/home/hjz/.pyenv/versions/3.11.7/lib/python3.11/site-packages/seqeval/metrics/v1.py:57: UndefinedMetricWarning: Recall and F-score are ill-defined and being set to 0.0 in labels with no true samples. Use `zero_division` parameter to control this behavior.\n",
      "  _warn_prf(average, modifier, msg_start, len(result))\n"
     ]
    }
   ],
   "source": [
    "results=[]\n",
    "for file_name in prediction_files:\n",
    "    prediction=pd.read_csv(file_name)\n",
    "    predicted_labels = []\n",
    "    true_labels = []\n",
    "    for i, j in zip(prediction[\"GPT_predicted_tags\"], prediction[\"ner_tags\"]):\n",
    "        try:\n",
    "            pred_labels = eval(i)\n",
    "            true_labels_eval = eval(j)\n",
    "            if len(pred_labels) == len(true_labels_eval):\n",
    "                predicted_labels.append(pred_labels)\n",
    "                true_labels.append(true_labels_eval)\n",
    "        except (SyntaxError, NameError, TypeError, ZeroDivisionError):\n",
    "            pass\n",
    "    result={\"file name\":file_name,\"number of samples\":len(predicted_labels)}\n",
    "    eval_result=seqeval.compute(predictions=predicted_labels, references=true_labels)\n",
    "    result.update(eval_result)\n",
    "    results.append(result)\n",
    "report_json = json.loads(json.dumps(results, default=int))\n",
    "\n",
    "with open(\"results.json\",\"w\") as f:\n",
    "    json.dump(report_json,f)"
   ]
  }
 ],
 "metadata": {
  "kernelspec": {
   "display_name": "Python 3",
   "language": "python",
   "name": "python3"
  },
  "language_info": {
   "codemirror_mode": {
    "name": "ipython",
    "version": 3
   },
   "file_extension": ".py",
   "mimetype": "text/x-python",
   "name": "python",
   "nbconvert_exporter": "python",
   "pygments_lexer": "ipython3",
   "version": "3.11.7"
  }
 },
 "nbformat": 4,
 "nbformat_minor": 2
}
