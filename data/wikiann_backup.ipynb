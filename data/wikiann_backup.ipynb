{
 "cells": [
  {
   "cell_type": "code",
   "execution_count": 16,
   "id": "fa7bcacf",
   "metadata": {},
   "outputs": [],
   "source": [
    "import pandas as pd\n",
    "from pandas import read_parquet"
   ]
  },
  {
   "cell_type": "code",
   "execution_count": 2,
   "id": "747d75b0",
   "metadata": {},
   "outputs": [],
   "source": [
    "data_test_JA = read_parquet(\"./japan/test-00000-of-00001.parquet\")\n",
    "data_test_SP = read_parquet(\"./spain/test-00000-of-00001.parquet\")\n",
    "data_test_EN = read_parquet(\"./spain/test-00000-of-00001.parquet\")\n",
    "data_test_FR = read_parquet(\"./spain/test-00000-of-00001.parquet\")\n",
    "data_test_CH = read_parquet(\"./spain/test-00000-of-00001.parquet\")"
   ]
  },
  {
   "cell_type": "code",
   "execution_count": 3,
   "id": "774b7e79",
   "metadata": {},
   "outputs": [],
   "source": [
    "merge_test = pd.concat([data_test_JA,data_test_SP,data_test_EN,data_test_FR,data_test_CH],axis=0)"
   ]
  },
  {
   "cell_type": "code",
   "execution_count": 4,
   "id": "96af2760",
   "metadata": {},
   "outputs": [],
   "source": [
    "data_dev_JA = read_parquet(\"./japan/validation-00000-of-00001.parquet\")\n",
    "data_dev_SP = read_parquet(\"./spain/validation-00000-of-00001.parquet\")\n",
    "data_dev_EN = read_parquet(\"./spain/validation-00000-of-00001.parquet\")\n",
    "data_dev_FR = read_parquet(\"./spain/validation-00000-of-00001.parquet\")\n",
    "data_dev_CH = read_parquet(\"./spain/validation-00000-of-00001.parquet\")\n",
    "merge_dev = pd.concat([data_test_JA,data_test_SP,data_test_EN,data_test_FR,data_test_CH],axis=0)"
   ]
  },
  {
   "cell_type": "code",
   "execution_count": 5,
   "id": "c796b350",
   "metadata": {},
   "outputs": [],
   "source": [
    "data_train_JA = read_parquet(\"./japan/train-00000-of-00001.parquet\")\n",
    "data_train_SP = read_parquet(\"./spain/train-00000-of-00001.parquet\")\n",
    "data_train_EN = read_parquet(\"./spain/train-00000-of-00001.parquet\")\n",
    "data_train_FR = read_parquet(\"./spain/train-00000-of-00001.parquet\")\n",
    "data_train_CH = read_parquet(\"./spain/train-00000-of-00001.parquet\")\n",
    "merge_train = pd.concat([data_test_JA,data_test_SP,data_test_EN,data_test_FR,data_test_CH],axis=0)"
   ]
  },
  {
   "cell_type": "code",
   "execution_count": 7,
   "id": "90234d36",
   "metadata": {},
   "outputs": [],
   "source": [
    "merge_test.to_parquet(\"./merge/test.parquet\")"
   ]
  },
  {
   "cell_type": "code",
   "execution_count": 8,
   "id": "a9aca26d",
   "metadata": {},
   "outputs": [],
   "source": [
    "merge_train.to_parquet(\"./merge/train.parquet\")"
   ]
  },
  {
   "cell_type": "code",
   "execution_count": 9,
   "id": "2ab96772",
   "metadata": {},
   "outputs": [],
   "source": [
    "merge_dev.to_parquet(\"./merge/dev.parquet\")"
   ]
  },
  {
   "cell_type": "code",
   "execution_count": 10,
   "id": "3227873b",
   "metadata": {},
   "outputs": [],
   "source": [
    "merge_raw = pd.concat([merge_train,merge_dev], axis=0)"
   ]
  },
  {
   "cell_type": "code",
   "execution_count": 11,
   "id": "3ae117dc",
   "metadata": {},
   "outputs": [],
   "source": [
    "merge_raw.to_parquet(\"./merge/raw.parquet\")"
   ]
  },
  {
   "cell_type": "code",
   "execution_count": 13,
   "id": "d70631b4",
   "metadata": {},
   "outputs": [],
   "source": [
    "data_raw = read_parquet(\"./merge/raw.parquet\")"
   ]
  },
  {
   "cell_type": "code",
   "execution_count": 14,
   "id": "c4fbfb8a",
   "metadata": {},
   "outputs": [
    {
     "data": {
      "text/html": [
       "<div>\n",
       "<style scoped>\n",
       "    .dataframe tbody tr th:only-of-type {\n",
       "        vertical-align: middle;\n",
       "    }\n",
       "\n",
       "    .dataframe tbody tr th {\n",
       "        vertical-align: top;\n",
       "    }\n",
       "\n",
       "    .dataframe thead th {\n",
       "        text-align: right;\n",
       "    }\n",
       "</style>\n",
       "<table border=\"1\" class=\"dataframe\">\n",
       "  <thead>\n",
       "    <tr style=\"text-align: right;\">\n",
       "      <th></th>\n",
       "      <th>tokens</th>\n",
       "      <th>ner_tags</th>\n",
       "      <th>langs</th>\n",
       "      <th>spans</th>\n",
       "    </tr>\n",
       "  </thead>\n",
       "  <tbody>\n",
       "    <tr>\n",
       "      <th>0</th>\n",
       "      <td>[#, ヌ, ン, チ, ャ, ク, バ, ン, キ, ：, 吉, 水, 孝, 宏]</td>\n",
       "      <td>[0, 0, 0, 0, 0, 0, 0, 0, 0, 0, 1, 2, 2, 2]</td>\n",
       "      <td>[ja, ja, ja, ja, ja, ja, ja, ja, ja, ja, ja, j...</td>\n",
       "      <td>[PER: 吉 水 孝 宏]</td>\n",
       "    </tr>\n",
       "    <tr>\n",
       "      <th>1</th>\n",
       "      <td>[:, #, テ, レ, ビ, 東, 京, 系, ア, ニ, メ, 『, ジ, ュ, エ, ...</td>\n",
       "      <td>[0, 0, 3, 4, 4, 4, 4, 0, 0, 0, 0, 0, 3, 4, 4, ...</td>\n",
       "      <td>[ja, ja, ja, ja, ja, ja, ja, ja, ja, ja, ja, j...</td>\n",
       "      <td>[ORG: テ レ ビ 東 京, ORG: ジ ュ エ ル ペ ッ ト, ORG: ハ ッ ...</td>\n",
       "    </tr>\n",
       "    <tr>\n",
       "      <th>2</th>\n",
       "      <td>[#, ゆ, う, ち, ょ, 銀, 行, A, T, M]</td>\n",
       "      <td>[0, 3, 4, 4, 4, 4, 4, 3, 4, 4]</td>\n",
       "      <td>[ja, ja, ja, ja, ja, ja, ja, ja, ja, ja]</td>\n",
       "      <td>[ORG: ゆ う ち ょ 銀 行, ORG: A T M]</td>\n",
       "    </tr>\n",
       "    <tr>\n",
       "      <th>3</th>\n",
       "      <td>[', ', ', ノ, ー, ネ, ', ', ', (, ', ', ', N, o, ...</td>\n",
       "      <td>[0, 0, 0, 0, 0, 0, 0, 0, 0, 0, 0, 0, 0, 0, 0, ...</td>\n",
       "      <td>[ja, ja, ja, ja, ja, ja, ja, ja, ja, ja, ja, j...</td>\n",
       "      <td>[LOC: イ タ リ ア 共 和 国, LOC: ピ エ モ ン テ 州, LOC: ト ...</td>\n",
       "    </tr>\n",
       "    <tr>\n",
       "      <th>4</th>\n",
       "      <td>[#, ', ', ', バ, ー, リ, 県, ', ', ']</td>\n",
       "      <td>[0, 0, 0, 0, 5, 6, 6, 6, 0, 0, 0]</td>\n",
       "      <td>[ja, ja, ja, ja, ja, ja, ja, ja, ja, ja, ja]</td>\n",
       "      <td>[LOC: バ ー リ 県]</td>\n",
       "    </tr>\n",
       "    <tr>\n",
       "      <th>...</th>\n",
       "      <td>...</td>\n",
       "      <td>...</td>\n",
       "      <td>...</td>\n",
       "      <td>...</td>\n",
       "    </tr>\n",
       "    <tr>\n",
       "      <th>9995</th>\n",
       "      <td>[', '', Martina, Hingis, '', ']</td>\n",
       "      <td>[0, 0, 1, 2, 0, 0]</td>\n",
       "      <td>[es, es, es, es, es, es]</td>\n",
       "      <td>[PER: Martina Hingis]</td>\n",
       "    </tr>\n",
       "    <tr>\n",
       "      <th>9996</th>\n",
       "      <td>[', '', Andalucía, '', ']</td>\n",
       "      <td>[0, 0, 5, 0, 0]</td>\n",
       "      <td>[es, es, es, es, es]</td>\n",
       "      <td>[LOC: Andalucía]</td>\n",
       "    </tr>\n",
       "    <tr>\n",
       "      <th>9997</th>\n",
       "      <td>[REDIRECCIÓN, Edward, Ratcliffe, Garth, Russel...</td>\n",
       "      <td>[0, 1, 2, 2, 2, 2]</td>\n",
       "      <td>[es, es, es, es, es, es]</td>\n",
       "      <td>[PER: Edward Ratcliffe Garth Russell Evans]</td>\n",
       "    </tr>\n",
       "    <tr>\n",
       "      <th>9998</th>\n",
       "      <td>[Kamisama, Hajimemashita, 2, '', como, (, Yato...</td>\n",
       "      <td>[3, 4, 4, 0, 0, 0, 0, 0]</td>\n",
       "      <td>[es, es, es, es, es, es, es, es]</td>\n",
       "      <td>[ORG: Kamisama Hajimemashita 2]</td>\n",
       "    </tr>\n",
       "    <tr>\n",
       "      <th>9999</th>\n",
       "      <td>[Secretaría, de, Relaciones, Exteriores, (, Mé...</td>\n",
       "      <td>[3, 4, 4, 4, 4, 4, 4]</td>\n",
       "      <td>[es, es, es, es, es, es, es]</td>\n",
       "      <td>[ORG: Secretaría de Relaciones Exteriores ( Mé...</td>\n",
       "    </tr>\n",
       "  </tbody>\n",
       "</table>\n",
       "<p>100000 rows × 4 columns</p>\n",
       "</div>"
      ],
      "text/plain": [
       "                                                 tokens  \\\n",
       "0            [#, ヌ, ン, チ, ャ, ク, バ, ン, キ, ：, 吉, 水, 孝, 宏]   \n",
       "1     [:, #, テ, レ, ビ, 東, 京, 系, ア, ニ, メ, 『, ジ, ュ, エ, ...   \n",
       "2                        [#, ゆ, う, ち, ょ, 銀, 行, A, T, M]   \n",
       "3     [', ', ', ノ, ー, ネ, ', ', ', (, ', ', ', N, o, ...   \n",
       "4                     [#, ', ', ', バ, ー, リ, 県, ', ', ']   \n",
       "...                                                 ...   \n",
       "9995                    [', '', Martina, Hingis, '', ']   \n",
       "9996                          [', '', Andalucía, '', ']   \n",
       "9997  [REDIRECCIÓN, Edward, Ratcliffe, Garth, Russel...   \n",
       "9998  [Kamisama, Hajimemashita, 2, '', como, (, Yato...   \n",
       "9999  [Secretaría, de, Relaciones, Exteriores, (, Mé...   \n",
       "\n",
       "                                               ner_tags  \\\n",
       "0            [0, 0, 0, 0, 0, 0, 0, 0, 0, 0, 1, 2, 2, 2]   \n",
       "1     [0, 0, 3, 4, 4, 4, 4, 0, 0, 0, 0, 0, 3, 4, 4, ...   \n",
       "2                        [0, 3, 4, 4, 4, 4, 4, 3, 4, 4]   \n",
       "3     [0, 0, 0, 0, 0, 0, 0, 0, 0, 0, 0, 0, 0, 0, 0, ...   \n",
       "4                     [0, 0, 0, 0, 5, 6, 6, 6, 0, 0, 0]   \n",
       "...                                                 ...   \n",
       "9995                                 [0, 0, 1, 2, 0, 0]   \n",
       "9996                                    [0, 0, 5, 0, 0]   \n",
       "9997                                 [0, 1, 2, 2, 2, 2]   \n",
       "9998                           [3, 4, 4, 0, 0, 0, 0, 0]   \n",
       "9999                              [3, 4, 4, 4, 4, 4, 4]   \n",
       "\n",
       "                                                  langs  \\\n",
       "0     [ja, ja, ja, ja, ja, ja, ja, ja, ja, ja, ja, j...   \n",
       "1     [ja, ja, ja, ja, ja, ja, ja, ja, ja, ja, ja, j...   \n",
       "2              [ja, ja, ja, ja, ja, ja, ja, ja, ja, ja]   \n",
       "3     [ja, ja, ja, ja, ja, ja, ja, ja, ja, ja, ja, j...   \n",
       "4          [ja, ja, ja, ja, ja, ja, ja, ja, ja, ja, ja]   \n",
       "...                                                 ...   \n",
       "9995                           [es, es, es, es, es, es]   \n",
       "9996                               [es, es, es, es, es]   \n",
       "9997                           [es, es, es, es, es, es]   \n",
       "9998                   [es, es, es, es, es, es, es, es]   \n",
       "9999                       [es, es, es, es, es, es, es]   \n",
       "\n",
       "                                                  spans  \n",
       "0                                        [PER: 吉 水 孝 宏]  \n",
       "1     [ORG: テ レ ビ 東 京, ORG: ジ ュ エ ル ペ ッ ト, ORG: ハ ッ ...  \n",
       "2                        [ORG: ゆ う ち ょ 銀 行, ORG: A T M]  \n",
       "3     [LOC: イ タ リ ア 共 和 国, LOC: ピ エ モ ン テ 州, LOC: ト ...  \n",
       "4                                        [LOC: バ ー リ 県]  \n",
       "...                                                 ...  \n",
       "9995                              [PER: Martina Hingis]  \n",
       "9996                                   [LOC: Andalucía]  \n",
       "9997        [PER: Edward Ratcliffe Garth Russell Evans]  \n",
       "9998                    [ORG: Kamisama Hajimemashita 2]  \n",
       "9999  [ORG: Secretaría de Relaciones Exteriores ( Mé...  \n",
       "\n",
       "[100000 rows x 4 columns]"
      ]
     },
     "execution_count": 14,
     "metadata": {},
     "output_type": "execute_result"
    }
   ],
   "source": [
    "data_test_JA"
   ]
  },
  {
   "cell_type": "code",
   "execution_count": 15,
   "id": "d7798d2c",
   "metadata": {},
   "outputs": [],
   "source": [
    "# 建议用raw进行分层抽样和sample+交叉验证"
   ]
  },
  {
   "cell_type": "code",
   "execution_count": null,
   "id": "d2a087d4",
   "metadata": {},
   "outputs": [],
   "source": []
  }
 ],
 "metadata": {
  "kernelspec": {
   "display_name": "py375",
   "language": "python",
   "name": "561"
  },
  "language_info": {
   "codemirror_mode": {
    "name": "ipython",
    "version": 3
   },
   "file_extension": ".py",
   "mimetype": "text/x-python",
   "name": "python",
   "nbconvert_exporter": "python",
   "pygments_lexer": "ipython3",
   "version": "3.7.5"
  }
 },
 "nbformat": 4,
 "nbformat_minor": 5
}
