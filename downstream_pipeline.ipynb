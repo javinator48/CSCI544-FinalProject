{
 "cells": [
  {
   "cell_type": "code",
   "execution_count": 1,
   "metadata": {},
   "outputs": [
    {
     "name": "stderr",
     "output_type": "stream",
     "text": [
      "d:\\annaconda3\\envs\\nlp1\\lib\\site-packages\\tqdm\\auto.py:21: TqdmWarning: IProgress not found. Please update jupyter and ipywidgets. See https://ipywidgets.readthedocs.io/en/stable/user_install.html\n",
      "  from .autonotebook import tqdm as notebook_tqdm\n"
     ]
    }
   ],
   "source": [
    "import json\n",
    "import torch\n",
    "from pandas import read_parquet\n",
    "from transformers import BertModel, BertTokenizerFast\n",
    "from torch.utils.data import Dataset, DataLoader"
   ]
  },
  {
   "cell_type": "code",
   "execution_count": 2,
   "metadata": {},
   "outputs": [],
   "source": [
    "model_path = \"data/mBERT/fine\"\n",
    "\n",
    "tokenizer = BertTokenizerFast.from_pretrained(model_path)"
   ]
  },
  {
   "cell_type": "code",
   "execution_count": 31,
   "metadata": {},
   "outputs": [],
   "source": [
    "train_data = read_parquet(\"data/merge/train.parquet\")\n",
    "dev_data = read_parquet(\"data/merge/dev.parquet\")\n",
    "test_data = read_parquet(\"data/merge/test.parquet\")\n",
    "\n",
    "with open(\"data/merge/tags_2_idx.json\", \"r\") as f:\n",
    "    tags2idx = json.load(f)\n",
    "\n",
    "with open(\"data/merge/idx_2_tags.json\", \"r\") as f:\n",
    "    idx2tags = json.load(f)\n",
    "\n",
    "with open(\"data/merge/chars2idx.json\", \"r\") as f:\n",
    "    chars2idx = json.load(f)"
   ]
  },
  {
   "cell_type": "code",
   "execution_count": 4,
   "metadata": {},
   "outputs": [],
   "source": [
    "sentences_train = train_data[\"tokens\"].values.tolist()\n",
    "tags_train = train_data[\"ner_tags\"].values.tolist()\n",
    "\n",
    "sentences_dev = dev_data[\"tokens\"].values.tolist()\n",
    "tags_dev = dev_data[\"ner_tags\"].values.tolist()\n",
    "\n",
    "sentences_test = test_data[\"tokens\"].values.tolist()\n",
    "tags_test = test_data[\"ner_tags\"].values.tolist()"
   ]
  },
  {
   "cell_type": "code",
   "execution_count": 30,
   "metadata": {},
   "outputs": [],
   "source": [
    "MAX_WORD_LEN = 30"
   ]
  },
  {
   "cell_type": "code",
   "execution_count": 39,
   "metadata": {},
   "outputs": [],
   "source": [
    "def align_label(tokenized_input, tags, tags_2_idx, idx_2_tags, label_all_tokens=True): \n",
    "    # tokenized_input refers to the sequences after tokenized\n",
    "    # tags refers to the original tags from dataset\n",
    "    # False:只为每个拆分token的第一个子词提供一个标签。\n",
    "    # True:在属于同一 token 的所有子词中提供相同的标签。\n",
    "    word_ids = tokenized_input.word_ids()\n",
    "    previous_word_idx = None\n",
    "    label_ids = []   \n",
    "    for word_idx in word_ids:\n",
    "        if word_idx is None:\n",
    "            label_ids.append(-100)                \n",
    "        elif word_idx != previous_word_idx:\n",
    "            try:\n",
    "                label_ids.append(tags[word_idx])\n",
    "            except:\n",
    "                label_ids.append(-100) \n",
    "        else:\n",
    "            label_ids.append(tags[word_idx] if label_all_tokens else -100)\n",
    "        previous_word_idx = word_idx      \n",
    "    return label_ids\n",
    "\n",
    "def generate_tokenized_input(sentences_raw, tags_raw):\n",
    "    sentences = []\n",
    "    tags = []\n",
    "    for i in range(len(sentences_raw)):\n",
    "        tokenized_text = tokenizer(sentences_raw[i].tolist(), padding=\"max_length\", max_length=512, truncation=True, return_tensors=\"pt\", is_split_into_words=True)\n",
    "        extended_tags = align_label(tokenized_text, tags_raw[i], tags2idx, idx2tags)\n",
    "        sentences.append(tokenized_text)\n",
    "        tags.append(extended_tags)\n",
    "    return sentences, tags\n",
    "\n",
    "def generate_tokenized_input_with_words(sentences_raw, tags_raw):\n",
    "    sentences = []\n",
    "    tags = []\n",
    "    words = []\n",
    "    for i in range(len(sentences_raw)):\n",
    "        tokenized_text = tokenizer(sentences_raw[i].tolist(), padding=\"max_length\", max_length=512, truncation=True, return_tensors=\"pt\", is_split_into_words=True)\n",
    "        extended_tags = align_label(tokenized_text, tags_raw[i], tags2idx, idx2tags)\n",
    "        sentences.append(tokenized_text)\n",
    "        tags.append(extended_tags)\n",
    "        token_ids = tokenized_text[\"input_ids\"][0]\n",
    "        token_words = tokenizer.convert_ids_to_tokens(token_ids)\n",
    "        words.append(token_words)\n",
    "        # char_ids = torch.zeros(512, MAX_WORD_LEN)\n",
    "        # for i in range(len(token_words)):\n",
    "        #     for j in range(len(token_words[i])):\n",
    "        #         char_ids[i][j] = chars2idx.get(token_words[i][j], chars2idx['<unk>'])\n",
    "    return sentences, tags, words"
   ]
  },
  {
   "cell_type": "code",
   "execution_count": 6,
   "metadata": {},
   "outputs": [],
   "source": [
    "train_sentences, train_tags = generate_tokenized_input(sentences_train, tags_train)\n",
    "dev_sentences, dev_tags = generate_tokenized_input(sentences_dev, tags_dev)\n",
    "test_sentences, test_tags = generate_tokenized_input(sentences_test, tags_test)"
   ]
  },
  {
   "cell_type": "code",
   "execution_count": null,
   "metadata": {},
   "outputs": [],
   "source": [
    "# token_ids = train_sentences[0][\"input_ids\"][0]\n",
    "# token_words = tokenizer.convert_ids_to_tokens(token_ids)\n",
    "# print(token_words)\n",
    "# char_ids = torch.zeros(512, MAX_WORD_LEN)\n",
    "# for i in range(len(token_words)):\n",
    "#     for j in range(len(token_words[i])):\n",
    "#         char_ids[i][j] = chars2idx.get(token_words[i][j], chars2idx['<unk>'])"
   ]
  },
  {
   "cell_type": "code",
   "execution_count": 40,
   "metadata": {},
   "outputs": [],
   "source": [
    "train_sentences1, train_tags1, train_words = generate_tokenized_input_with_words(sentences_train, tags_train)\n"
   ]
  }
 ],
 "metadata": {
  "kernelspec": {
   "display_name": "nlp1",
   "language": "python",
   "name": "python3"
  },
  "language_info": {
   "codemirror_mode": {
    "name": "ipython",
    "version": 3
   },
   "file_extension": ".py",
   "mimetype": "text/x-python",
   "name": "python",
   "nbconvert_exporter": "python",
   "pygments_lexer": "ipython3",
   "version": "3.9.18"
  }
 },
 "nbformat": 4,
 "nbformat_minor": 2
}
