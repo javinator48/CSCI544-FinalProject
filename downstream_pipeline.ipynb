{
 "cells": [
  {
   "cell_type": "markdown",
   "metadata": {},
   "source": [
    "# packages"
   ]
  },
  {
   "cell_type": "code",
   "execution_count": 1,
   "metadata": {},
   "outputs": [
    {
     "name": "stderr",
     "output_type": "stream",
     "text": [
      "C:\\Users\\monkeydc\\.conda\\envs\\561\\lib\\site-packages\\tqdm\\auto.py:22: TqdmWarning: IProgress not found. Please update jupyter and ipywidgets. See https://ipywidgets.readthedocs.io/en/stable/user_install.html\n",
      "  from .autonotebook import tqdm as notebook_tqdm\n"
     ]
    }
   ],
   "source": [
    "import json\n",
    "import torch\n",
    "import torch.nn as nn\n",
    "import torch.nn.functional as F\n",
    "from pandas import read_parquet\n",
    "from transformers import BertModel, BertTokenizerFast\n",
    "from torch.utils.data import Dataset, DataLoader\n",
    "from torch.optim import Adam\n",
    "from tqdm import tqdm\n",
    "from sklearn.metrics import precision_recall_fscore_support"
   ]
  },
  {
   "cell_type": "markdown",
   "metadata": {},
   "source": [
    "# dataset reading"
   ]
  },
  {
   "cell_type": "code",
   "execution_count": 2,
   "metadata": {},
   "outputs": [],
   "source": [
    "model_path = \"data/mBERT/fine\"\n",
    "\n",
    "tokenizer = BertTokenizerFast.from_pretrained(model_path)"
   ]
  },
  {
   "cell_type": "code",
   "execution_count": 3,
   "metadata": {},
   "outputs": [],
   "source": [
    "train_data = read_parquet(\"data/merge/train.parquet\")\n",
    "dev_data = read_parquet(\"data/merge/dev.parquet\")\n",
    "test_data = read_parquet(\"data/merge/test.parquet\")\n",
    "\n",
    "with open(\"data/merge/tags_2_idx.json\", \"r\") as f:\n",
    "    tags2idx = json.load(f)\n",
    "\n",
    "with open(\"data/merge/idx_2_tags.json\", \"r\") as f:\n",
    "    idx2tags = json.load(f)\n",
    "\n",
    "with open(\"data/merge/chars2idx.json\", \"r\") as f:\n",
    "    chars2idx = json.load(f)"
   ]
  },
  {
   "cell_type": "code",
   "execution_count": 4,
   "metadata": {},
   "outputs": [],
   "source": [
    "sentences_train = train_data[\"tokens\"].values.tolist()\n",
    "tags_train = train_data[\"ner_tags\"].values.tolist()\n",
    "\n",
    "sentences_dev = dev_data[\"tokens\"].values.tolist()\n",
    "tags_dev = dev_data[\"ner_tags\"].values.tolist()\n",
    "\n",
    "sentences_test = test_data[\"tokens\"].values.tolist()\n",
    "tags_test = test_data[\"ner_tags\"].values.tolist()"
   ]
  },
  {
   "cell_type": "code",
   "execution_count": 5,
   "metadata": {},
   "outputs": [],
   "source": [
    "MAX_WORD_LEN = 30\n",
    "# device = torch.device(\"cuda\" if torch.cuda.is_available() else \"cpu\")"
   ]
  },
  {
   "cell_type": "code",
   "execution_count": 6,
   "metadata": {},
   "outputs": [],
   "source": [
    "def align_label(tokenized_input, tags, tags_2_idx, idx_2_tags, label_all_tokens=True): \n",
    "    # tokenized_input refers to the sequences after tokenized\n",
    "    # tags refers to the original tags from dataset\n",
    "    # False:只为每个拆分token的第一个子词提供一个标签。\n",
    "    # True:在属于同一 token 的所有子词中提供相同的标签。\n",
    "    word_ids = tokenized_input.word_ids()\n",
    "    previous_word_idx = None\n",
    "    label_ids = []   \n",
    "    for word_idx in word_ids:\n",
    "        if word_idx is None:\n",
    "            label_ids.append(-100)                \n",
    "        elif word_idx != previous_word_idx:\n",
    "            try:\n",
    "                label_ids.append(tags[word_idx])\n",
    "            except:\n",
    "                label_ids.append(-100) \n",
    "        else:\n",
    "            label_ids.append(tags[word_idx] if label_all_tokens else -100)\n",
    "        previous_word_idx = word_idx      \n",
    "    return label_ids\n",
    "\n",
    "def generate_tokenized_input(sentences_raw, tags_raw):\n",
    "    sentences = []\n",
    "    tags = []\n",
    "    for i in range(len(sentences_raw)):\n",
    "        tokenized_text = tokenizer(sentences_raw[i].tolist(), padding=\"max_length\", max_length=512, truncation=True, return_tensors=\"pt\", is_split_into_words=True)\n",
    "        extended_tags = align_label(tokenized_text, tags_raw[i], tags2idx, idx2tags)\n",
    "        sentences.append(tokenized_text)\n",
    "        tags.append(extended_tags)\n",
    "    return sentences, tags\n",
    "\n",
    "def generate_tokenized_input_with_words(sentences_raw, tags_raw):\n",
    "    sentences = []\n",
    "    tags = []\n",
    "    words = []\n",
    "    chars = []\n",
    "    for i in range(len(sentences_raw)):\n",
    "        tokenized_text = tokenizer(sentences_raw[i].tolist(), padding=\"max_length\", max_length=512, truncation=True, return_tensors=\"pt\", is_split_into_words=True)\n",
    "        extended_tags = align_label(tokenized_text, tags_raw[i], tags2idx, idx2tags)\n",
    "        sentences.append(tokenized_text)\n",
    "        tags.append(extended_tags)\n",
    "        token_ids = tokenized_text[\"input_ids\"][0]\n",
    "        token_words = tokenizer.convert_ids_to_tokens(token_ids)\n",
    "        words.append(token_words)\n",
    "        char_ids = torch.zeros(512, MAX_WORD_LEN)\n",
    "        for i in range(len(token_words)):\n",
    "            for j in range(len(token_words[i])):\n",
    "                char_ids[i][j] = chars2idx.get(token_words[i][j], chars2idx['<unk>'])\n",
    "        chars.append(char_ids)\n",
    "    return sentences, tags, words, chars"
   ]
  },
  {
   "cell_type": "code",
   "execution_count": 7,
   "metadata": {},
   "outputs": [],
   "source": [
    "train_sentences, train_tags = generate_tokenized_input(sentences_train, tags_train)\n",
    "dev_sentences, dev_tags = generate_tokenized_input(sentences_dev, tags_dev)\n",
    "test_sentences, test_tags = generate_tokenized_input(sentences_test, tags_test)"
   ]
  },
  {
   "cell_type": "code",
   "execution_count": 8,
   "metadata": {},
   "outputs": [],
   "source": [
    "device = torch.device(\"cuda\" if torch.cuda.is_available() else \"cpu\")"
   ]
  },
  {
   "cell_type": "code",
   "execution_count": 9,
   "metadata": {},
   "outputs": [],
   "source": [
    "# train_sentences1, train_tags1, train_words, train_chars = generate_tokenized_input_with_words(sentences_train, tags_train)"
   ]
  },
  {
   "cell_type": "code",
   "execution_count": 10,
   "metadata": {},
   "outputs": [
    {
     "name": "stderr",
     "output_type": "stream",
     "text": [
      "Some weights of the model checkpoint at data/mBERT/fine were not used when initializing BertModel: ['classifier.weight', 'classifier.bias']\n",
      "- This IS expected if you are initializing BertModel from the checkpoint of a model trained on another task or with another architecture (e.g. initializing a BertForSequenceClassification model from a BertForPreTraining model).\n",
      "- This IS NOT expected if you are initializing BertModel from the checkpoint of a model that you expect to be exactly identical (initializing a BertForSequenceClassification model from a BertForSequenceClassification model).\n",
      "Some weights of BertModel were not initialized from the model checkpoint at data/mBERT/fine and are newly initialized: ['bert.pooler.dense.bias', 'bert.pooler.dense.weight']\n",
      "You should probably TRAIN this model on a down-stream task to be able to use it for predictions and inference.\n"
     ]
    }
   ],
   "source": [
    "bert = BertModel.from_pretrained(\"data/mBERT/fine\").to(device)"
   ]
  },
  {
   "cell_type": "code",
   "execution_count": 12,
   "metadata": {},
   "outputs": [],
   "source": [
    "class MultilingualDataset(Dataset):\n",
    "    def __init__(self, sentences, labels):\n",
    "        self.sentences = sentences\n",
    "        self.labels = labels\n",
    "\n",
    "    def __len__(self):\n",
    "        return len(self.labels)\n",
    "\n",
    "    def get_text_tokenized(self, idx):\n",
    "        return self.sentences[idx]\n",
    "\n",
    "    def get_labels(self, idx):\n",
    "        return torch.LongTensor(self.labels[idx])\n",
    "\n",
    "    def __getitem__(self, idx):\n",
    "        text_tokenized = self.get_text_tokenized(idx)\n",
    "        labels = self.get_labels(idx)\n",
    "        return text_tokenized, labels.unsqueeze(0)  # shap: [1, 512]\n",
    "    \n",
    "def collate_fn(batch):\n",
    "    text_tokenized_seqs, labels_seqs = zip(*batch)\n",
    "    B = len(labels_seqs)\n",
    "    batch_input_ids = []\n",
    "    batch_attention_masks = []\n",
    "    batch_label_seqs = torch.concat(labels_seqs)\n",
    "    for i in range(B):\n",
    "        batch_input_ids.append(text_tokenized_seqs[i][\"input_ids\"])\n",
    "        batch_attention_masks.append(text_tokenized_seqs[i][\"attention_mask\"])\n",
    "    batch_input_ids = torch.concat(batch_input_ids).to(device)\n",
    "    batch_attention_masks = torch.concat(batch_attention_masks).to(device)\n",
    "    with torch.no_grad():\n",
    "        bert_output = bert(batch_input_ids, batch_attention_masks)\n",
    "    bert_embeddings = bert_output[\"last_hidden_state\"]\n",
    "    return bert_embeddings, batch_label_seqs, batch_attention_masks"
   ]
  },
  {
   "cell_type": "code",
   "execution_count": 13,
   "metadata": {},
   "outputs": [],
   "source": [
    "train_dataset = MultilingualDataset(train_sentences, train_tags)\n",
    "dev_dataset = MultilingualDataset(dev_sentences, dev_tags)\n",
    "test_dataset = MultilingualDataset(test_sentences, test_tags)"
   ]
  },
  {
   "cell_type": "markdown",
   "metadata": {},
   "source": [
    "# model class"
   ]
  },
  {
   "cell_type": "code",
   "execution_count": 14,
   "metadata": {},
   "outputs": [],
   "source": [
    "#output = bert(train_sentences[0][\"input_ids\"], attention_mask=train_sentences[0][\"attention_mask\"])"
   ]
  },
  {
   "cell_type": "code",
   "execution_count": 15,
   "metadata": {},
   "outputs": [],
   "source": [
    "class BiLSTM(nn.Module):\n",
    "    def __init__(\n",
    "            self, input_size,\n",
    "            lstm_hidden_dim, lstm_num_layers, lstm_dropout, \n",
    "            linear_output_dim, label_size\n",
    "        ):\n",
    "        super().__init__()\n",
    "        self.lstm = nn.LSTM(\n",
    "            input_size=input_size,\n",
    "            hidden_size=lstm_hidden_dim,\n",
    "            num_layers=lstm_num_layers,\n",
    "            batch_first=True,\n",
    "            dropout=lstm_dropout,\n",
    "            bidirectional=True\n",
    "        )\n",
    "        self.fc1 = nn.Linear(2 * lstm_hidden_dim, linear_output_dim)\n",
    "        self.dropout = nn.Dropout(lstm_dropout)\n",
    "        self.fc2 = nn.Linear(linear_output_dim, label_size)\n",
    "\n",
    "    def forward(self, x):\n",
    "        x, _ = self.lstm(x)\n",
    "        x = self.dropout(F.elu(self.fc1(x), inplace=True))\n",
    "        x = self.fc2(x)\n",
    "        return x"
   ]
  },
  {
   "cell_type": "code",
   "execution_count": 16,
   "metadata": {},
   "outputs": [],
   "source": [
    "train_loader = DataLoader(\n",
    "    dataset=train_dataset,\n",
    "    batch_size=8,\n",
    "    shuffle=True,\n",
    "    collate_fn=collate_fn\n",
    ")\n",
    "dev_loader = DataLoader(\n",
    "    dataset=dev_dataset,\n",
    "    batch_size=8,\n",
    "    shuffle=False,\n",
    "    collate_fn=collate_fn\n",
    ")\n",
    "lstm_model = BiLSTM(\n",
    "    input_size=768,\n",
    "    lstm_hidden_dim=256, lstm_num_layers=2, lstm_dropout=0.33,\n",
    "    linear_output_dim=128, label_size=len(idx2tags)\n",
    ")\n",
    "lstm_model = lstm_model.to(device)\n",
    "\n",
    "criterion = nn.CrossEntropyLoss()\n",
    "optimizer = Adam(lstm_model.parameters(), lr=1e-3)\n",
    "epochs = 5"
   ]
  },
  {
   "cell_type": "code",
   "execution_count": null,
   "metadata": {
    "scrolled": true
   },
   "outputs": [
    {
     "name": "stdout",
     "output_type": "stream",
     "text": [
      "Epoch: 1/5\n"
     ]
    },
    {
     "name": "stderr",
     "output_type": "stream",
     "text": [
      "Epoch: 1/5:  77%|████████████████████████████████▍         | 7727/10013 [41:33<12:13,  3.12it/s, acc=0.675, loss=0.775]"
     ]
    }
   ],
   "source": [
    "for epoch in range(epochs):\n",
    "    print(f'Epoch: {epoch + 1}/{epochs}')\n",
    "    train_loss = 0\n",
    "    cur_total = 0\n",
    "    correct = 0\n",
    "    amount = 0\n",
    "    lstm_model.train()\n",
    "    train_loop = tqdm(train_loader, desc=f'Epoch: {epoch + 1}/{epochs}')\n",
    "    for bert_embeddings, labels, attention_masks in train_loop:\n",
    "        bert_embeddings = bert_embeddings.to(device)\n",
    "        labels = labels.to(device)\n",
    "        attention_masks = attention_masks.to(device)\n",
    "\n",
    "        optimizer.zero_grad()\n",
    "        logits = lstm_model(bert_embeddings)\n",
    "\n",
    "        logits_reshape = logits.view(-1, logits.shape[-1])  # [B*T, label_size]\n",
    "        labels_reshape = labels.view(-1)    # [B*T]\n",
    "        reshape_masks = attention_masks.view(-1)    # [B*T]\n",
    "        logits_non_pad = logits_reshape[reshape_masks == 1]\n",
    "        labels_non_pad = labels_reshape[reshape_masks == 1]\n",
    "\n",
    "        loss = criterion(logits_non_pad, labels_non_pad)\n",
    "        loss.backward()\n",
    "        optimizer.step()\n",
    "\n",
    "        train_loss += loss.cpu().item() * len(labels)\n",
    "\n",
    "        _, predictions = torch.max(logits_non_pad, 1)\n",
    "        correct += sum(predictions == labels_non_pad)\n",
    "        amount += len(labels_non_pad)\n",
    "\n",
    "        cur_total += len(labels)\n",
    "        running_loss = train_loss / cur_total\n",
    "        running_acc = correct / amount\n",
    "        train_loop.set_postfix(loss=running_loss, acc=running_acc.item())\n",
    "\n",
    "    train_loss /= len(train_dataset)\n",
    "    train_acc = correct / amount\n",
    "\n",
    "    dev_loss = 0\n",
    "    y_true, y_pred = [], []\n",
    "    correct = 0\n",
    "    amount = 0\n",
    "    lstm_model.eval()\n",
    "    with torch.no_grad():\n",
    "        for bert_embeddings, labels, attention_masks in tqdm(dev_loader):\n",
    "            bert_embeddings = bert_embeddings.to(device)\n",
    "            labels = labels.to(device)\n",
    "            attention_masks = attention_masks.to(device)\n",
    "\n",
    "            logits = lstm_model(bert_embeddings)\n",
    "\n",
    "            logits_reshape = logits.view(-1, logits.shape[-1])  # [B*T, label_size]\n",
    "            labels_reshape = labels.view(-1)    # [B*T]\n",
    "            reshape_masks = attention_masks.view(-1)    # [B*T]\n",
    "            logits_non_pad = logits_reshape[reshape_masks == 1]\n",
    "            labels_non_pad = labels_reshape[reshape_masks == 1]\n",
    "\n",
    "            loss = criterion(logits_non_pad, labels_non_pad)\n",
    "\n",
    "            dev_loss += loss.cpu().item() * len(labels)\n",
    "\n",
    "            _, predictions = torch.max(logits_non_pad, 1)\n",
    "            correct += sum(predictions == labels_non_pad)\n",
    "            amount += len(labels_non_pad)\n",
    "            y_pred.extend(predictions.cpu())\n",
    "            y_true.extend(labels_non_pad.cpu())\n",
    "\n",
    "    dev_loss /= len(dev_dataset)\n",
    "    val_acc = correct / amount\n",
    "    val_precision, val_recall, val_f1, _ = precision_recall_fscore_support(y_true, y_pred, average='macro', zero_division=0)\n",
    "    print('train_loss: {:.4f}, train_acc: {:.4f}, val_loss: {:.4f}, val_acc: {:.4f}'.format(train_loss, train_acc, dev_loss, val_acc))\n",
    "    print('val_precision: {:.4f}, val_recall: {:.4f}, val_f1: {:.4f}'.format(val_precision, val_recall, val_f1))"
   ]
  },
  {
   "cell_type": "markdown",
   "metadata": {},
   "source": [
    "# CSV output"
   ]
  },
  {
   "cell_type": "code",
   "execution_count": null,
   "metadata": {},
   "outputs": [],
   "source": []
  }
 ],
 "metadata": {
  "kernelspec": {
   "display_name": "Python 3 (ipykernel)",
   "language": "python",
   "name": "python3"
  },
  "language_info": {
   "codemirror_mode": {
    "name": "ipython",
    "version": 3
   },
   "file_extension": ".py",
   "mimetype": "text/x-python",
   "name": "python",
   "nbconvert_exporter": "python",
   "pygments_lexer": "ipython3",
   "version": "3.7.5"
  }
 },
 "nbformat": 4,
 "nbformat_minor": 2
}
