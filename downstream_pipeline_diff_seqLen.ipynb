{
 "cells": [
  {
   "cell_type": "code",
   "execution_count": 1,
   "metadata": {},
   "outputs": [
    {
     "name": "stderr",
     "output_type": "stream",
     "text": [
      "d:\\annaconda3\\envs\\nlp1\\lib\\site-packages\\tqdm\\auto.py:21: TqdmWarning: IProgress not found. Please update jupyter and ipywidgets. See https://ipywidgets.readthedocs.io/en/stable/user_install.html\n",
      "  from .autonotebook import tqdm as notebook_tqdm\n"
     ]
    }
   ],
   "source": [
    "import json\n",
    "import torch\n",
    "import torch.nn as nn\n",
    "import torch.nn.functional as F\n",
    "from pandas import read_parquet\n",
    "from transformers import BertModel, BertTokenizerFast\n",
    "from torch.utils.data import Dataset, DataLoader\n",
    "from torch.optim import Adam\n",
    "from tqdm import tqdm\n",
    "from sklearn.metrics import precision_recall_fscore_support"
   ]
  },
  {
   "cell_type": "code",
   "execution_count": 2,
   "metadata": {},
   "outputs": [],
   "source": [
    "model_path = \"data/mBERT/fine\"\n",
    "\n",
    "tokenizer = BertTokenizerFast.from_pretrained(model_path)"
   ]
  },
  {
   "cell_type": "code",
   "execution_count": 3,
   "metadata": {},
   "outputs": [],
   "source": [
    "train_data = read_parquet(\"data/merge/train.parquet\").sample(5000)\n",
    "dev_data = read_parquet(\"data/merge/dev.parquet\").sample(3000)\n",
    "test_data = read_parquet(\"data/merge/test.parquet\").sample(1000)\n",
    "\n",
    "with open(\"data/merge/tags_2_idx.json\", \"r\") as f:\n",
    "    tags2idx = json.load(f)\n",
    "\n",
    "with open(\"data/merge/idx_2_tags.json\", \"r\") as f:\n",
    "    idx2tags = json.load(f)\n",
    "\n",
    "with open(\"data/merge/chars2idx.json\", \"r\") as f:\n",
    "    chars2idx = json.load(f)"
   ]
  },
  {
   "cell_type": "code",
   "execution_count": 4,
   "metadata": {},
   "outputs": [],
   "source": [
    "sentences_train = train_data[\"tokens\"].values.tolist()\n",
    "tags_train = train_data[\"ner_tags\"].values.tolist()\n",
    "\n",
    "sentences_dev = dev_data[\"tokens\"].values.tolist()\n",
    "tags_dev = dev_data[\"ner_tags\"].values.tolist()\n",
    "\n",
    "sentences_test = test_data[\"tokens\"].values.tolist()\n",
    "tags_test = test_data[\"ner_tags\"].values.tolist()"
   ]
  },
  {
   "cell_type": "code",
   "execution_count": 12,
   "metadata": {},
   "outputs": [
    {
     "name": "stderr",
     "output_type": "stream",
     "text": [
      "d:\\annaconda3\\envs\\nlp1\\lib\\site-packages\\torch\\_utils.py:831: UserWarning: TypedStorage is deprecated. It will be removed in the future and UntypedStorage will be the only storage class. This should only matter to you if you are using storages directly.  To access UntypedStorage directly, use tensor.untyped_storage() instead of tensor.storage()\n",
      "  return self.fget.__get__(instance, owner)()\n"
     ]
    }
   ],
   "source": [
    "device = torch.device(\"cuda\" if torch.cuda.is_available() else \"cpu\")\n",
    "bert = BertModel.from_pretrained(\"data/mBERT/fine\").to(device)"
   ]
  },
  {
   "cell_type": "code",
   "execution_count": 66,
   "metadata": {},
   "outputs": [],
   "source": [
    "def tokenize_and_align_labels(sentences, labels, max_length, label_all_tokens=True):\n",
    "    tokenized_inputs = tokenizer(\n",
    "        sentences, padding=\"max_length\", max_length=min(512, max_length * 4), # some tokens will be split into smaller parts\n",
    "        return_tensors=\"pt\", truncation=True, is_split_into_words=True\n",
    "    )\n",
    "\n",
    "    tokenized_labels = []\n",
    "    for i, label in enumerate(labels):\n",
    "        word_ids = tokenized_inputs.word_ids(batch_index=i)  # Map tokens to their respective word.\n",
    "        \n",
    "        previous_word_idx = None\n",
    "        label_ids = []\n",
    "        for word_idx in word_ids:  # Set the special tokens to -100.\n",
    "            if word_idx is None:\n",
    "                label_ids.append(-100)\n",
    "            elif word_idx != previous_word_idx:  # Only label the first token of a given word.\n",
    "                label_ids.append(label[word_idx])\n",
    "            else:\n",
    "                label_ids.append(label[word_idx] if label_all_tokens else -100)\n",
    "            previous_word_idx = word_idx\n",
    "        tokenized_labels.append(label_ids)\n",
    "\n",
    "    tokenized_inputs[\"labels\"] = torch.tensor(tokenized_labels)\n",
    "    return tokenized_inputs"
   ]
  },
  {
   "cell_type": "code",
   "execution_count": 91,
   "metadata": {},
   "outputs": [],
   "source": [
    "class MultilingualDataset(Dataset):\n",
    "    def __init__(self, sentences, labels):\n",
    "        self.sentences = sentences\n",
    "        self.labels = labels\n",
    "\n",
    "    def __len__(self):\n",
    "        return len(self.labels)\n",
    "\n",
    "    def __getitem__(self, idx):\n",
    "        return self.sentences[idx].tolist(), self.labels[idx].tolist()\n",
    "    \n",
    "def collate_fn(batch):\n",
    "    sentences, labels = zip(*batch)\n",
    "    B = len(labels)\n",
    "    max_len = max([len(sentence) for sentence in sentences])\n",
    "    tokenized_inputs = tokenize_and_align_labels(sentences, labels, max_len)\n",
    "    T = tokenized_inputs[\"input_ids\"].shape[1]\n",
    "    batch_words = []\n",
    "    for input_ids in tokenized_inputs[\"input_ids\"]:\n",
    "        batch_words.append(tokenizer.convert_ids_to_tokens(input_ids))\n",
    "    L = max([len(x) for words in batch_words for x in words])\n",
    "    batch_char_ids = torch.zeros(B, T, L)\n",
    "    for i in range(B):\n",
    "        for j in range(T):\n",
    "            cur_word = batch_words[i][j]\n",
    "            if cur_word == \"[PAD]\":\n",
    "                break\n",
    "            elif cur_word[0] == \"[\" and cur_word[-1] == \"]\":\n",
    "                continue\n",
    "            for k in range(len(cur_word)):\n",
    "                batch_char_ids[i][j][k] = chars2idx.get(cur_word[k], chars2idx[\"<unk>\"])\n",
    "    tokenized_inputs[\"char_ids\"] = batch_char_ids\n",
    "    device = bert.device\n",
    "    bert_outputs = bert(tokenized_inputs[\"input_ids\"].to(device), attention_mask=tokenized_inputs[\"attention_mask\"].to(device))\n",
    "    bert_embeddings = bert_outputs[\"last_hidden_state\"]\n",
    "    return tokenized_inputs, bert_embeddings"
   ]
  },
  {
   "cell_type": "code",
   "execution_count": 92,
   "metadata": {},
   "outputs": [],
   "source": [
    "class BiLSTM(nn.Module):\n",
    "    def __init__(\n",
    "            self, input_size,\n",
    "            lstm_hidden_dim, lstm_num_layers, lstm_dropout, \n",
    "            linear_output_dim, label_size\n",
    "        ):\n",
    "        super().__init__()\n",
    "        self.lstm = nn.LSTM(\n",
    "            input_size=input_size,\n",
    "            hidden_size=lstm_hidden_dim,\n",
    "            num_layers=lstm_num_layers,\n",
    "            batch_first=True,\n",
    "            dropout=lstm_dropout,\n",
    "            bidirectional=True\n",
    "        )\n",
    "        self.fc1 = nn.Linear(2 * lstm_hidden_dim, linear_output_dim)\n",
    "        self.dropout = nn.Dropout(lstm_dropout)\n",
    "        self.fc2 = nn.Linear(linear_output_dim, label_size)\n",
    "\n",
    "    def forward(self, x):\n",
    "        x, _ = self.lstm(x)\n",
    "        x = self.dropout(F.elu(self.fc1(x), inplace=True))\n",
    "        x = self.fc2(x)\n",
    "        return x"
   ]
  },
  {
   "cell_type": "code",
   "execution_count": 100,
   "metadata": {},
   "outputs": [],
   "source": [
    "train_dataset = MultilingualDataset(sentences_train, tags_train)\n",
    "dev_dataset = MultilingualDataset(sentences_dev, tags_dev)\n",
    "test_dataset = MultilingualDataset(sentences_test, tags_test)\n",
    "train_loader = DataLoader(\n",
    "    dataset=train_dataset,\n",
    "    batch_size=2,\n",
    "    shuffle=True,\n",
    "    collate_fn=collate_fn\n",
    ")\n",
    "dev_loader = DataLoader(\n",
    "    dataset=dev_dataset,\n",
    "    batch_size=2,\n",
    "    shuffle=False,\n",
    "    collate_fn=collate_fn\n",
    ")\n",
    "lstm_model = BiLSTM(\n",
    "    input_size=768,\n",
    "    lstm_hidden_dim=256, lstm_num_layers=2, lstm_dropout=0.33,\n",
    "    linear_output_dim=128, label_size=len(idx2tags)\n",
    ")\n",
    "lstm_model = lstm_model.to(device)\n",
    "\n",
    "criterion = nn.CrossEntropyLoss(ignore_index=-100)\n",
    "optimizer = Adam(lstm_model.parameters(), lr=1e-3)\n",
    "epochs = 5"
   ]
  },
  {
   "cell_type": "code",
   "execution_count": 101,
   "metadata": {},
   "outputs": [
    {
     "name": "stdout",
     "output_type": "stream",
     "text": [
      "Epoch: 1/5\n"
     ]
    },
    {
     "name": "stderr",
     "output_type": "stream",
     "text": [
      "Epoch: 1/5: 100%|██████████| 2500/2500 [07:30<00:00,  5.55it/s, acc=0.696, loss=0.699]\n",
      "Epoch: 1/5: 100%|██████████| 1500/1500 [01:07<00:00, 22.20it/s]\n"
     ]
    },
    {
     "name": "stdout",
     "output_type": "stream",
     "text": [
      "train_loss: 0.6988, train_acc: 0.6964, val_loss: 0.4551, val_acc: 0.7523\n",
      "val_precision: 0.6587, val_recall: 0.6345, val_f1: 0.6416\n",
      "Epoch: 2/5\n"
     ]
    },
    {
     "name": "stderr",
     "output_type": "stream",
     "text": [
      "Epoch: 2/5: 100%|██████████| 2500/2500 [05:01<00:00,  8.29it/s, acc=0.751, loss=0.466]\n",
      "Epoch: 2/5: 100%|██████████| 1500/1500 [00:59<00:00, 25.11it/s]\n"
     ]
    },
    {
     "name": "stdout",
     "output_type": "stream",
     "text": [
      "train_loss: 0.4662, train_acc: 0.7507, val_loss: 0.3793, val_acc: 0.7694\n",
      "val_precision: 0.6658, val_recall: 0.6905, val_f1: 0.6759\n",
      "Epoch: 3/5\n"
     ]
    },
    {
     "name": "stderr",
     "output_type": "stream",
     "text": [
      "Epoch: 3/5: 100%|██████████| 2500/2500 [05:12<00:00,  8.00it/s, acc=0.773, loss=0.376]\n",
      "Epoch: 3/5: 100%|██████████| 1500/1500 [00:59<00:00, 25.33it/s]\n"
     ]
    },
    {
     "name": "stdout",
     "output_type": "stream",
     "text": [
      "train_loss: 0.3757, train_acc: 0.7733, val_loss: 0.3780, val_acc: 0.7728\n",
      "val_precision: 0.6682, val_recall: 0.6918, val_f1: 0.6776\n",
      "Epoch: 4/5\n"
     ]
    },
    {
     "name": "stderr",
     "output_type": "stream",
     "text": [
      "Epoch: 4/5: 100%|██████████| 2500/2500 [05:14<00:00,  7.94it/s, acc=0.786, loss=0.311]\n",
      "Epoch: 4/5: 100%|██████████| 1500/1500 [00:58<00:00, 25.58it/s]\n"
     ]
    },
    {
     "name": "stdout",
     "output_type": "stream",
     "text": [
      "train_loss: 0.3111, train_acc: 0.7864, val_loss: 0.3612, val_acc: 0.7806\n",
      "val_precision: 0.6880, val_recall: 0.6999, val_f1: 0.6913\n",
      "Epoch: 5/5\n"
     ]
    },
    {
     "name": "stderr",
     "output_type": "stream",
     "text": [
      "Epoch: 5/5: 100%|██████████| 2500/2500 [05:24<00:00,  7.71it/s, acc=0.802, loss=0.254]\n",
      "Epoch: 5/5: 100%|██████████| 1500/1500 [01:01<00:00, 24.59it/s]\n"
     ]
    },
    {
     "name": "stdout",
     "output_type": "stream",
     "text": [
      "train_loss: 0.2535, train_acc: 0.8021, val_loss: 0.3685, val_acc: 0.7833\n",
      "val_precision: 0.6797, val_recall: 0.7121, val_f1: 0.6938\n"
     ]
    }
   ],
   "source": [
    "for epoch in range(epochs):\n",
    "    print(f'Epoch: {epoch + 1}/{epochs}')\n",
    "    train_loss = 0\n",
    "    cur_total = 0\n",
    "    correct = 0\n",
    "    amount = 0\n",
    "    lstm_model.train()\n",
    "    train_loop = tqdm(train_loader, desc=f'Epoch: {epoch + 1}/{epochs}')\n",
    "    for tokenized_inputs, bert_embeddings in train_loop:\n",
    "        B = bert_embeddings.shape[0]\n",
    "        bert_embeddings = bert_embeddings.to(device)\n",
    "        labels = tokenized_inputs[\"labels\"].to(device)\n",
    "        attention_masks = tokenized_inputs[\"attention_mask\"].to(device)\n",
    "\n",
    "        optimizer.zero_grad()\n",
    "        logits = lstm_model(bert_embeddings)\n",
    "        logits_reshape = logits.view(-1, logits.shape[-1])\n",
    "        labels_reshape = labels.view(-1)\n",
    "        loss = criterion(logits_reshape, labels_reshape)\n",
    "        loss.backward()\n",
    "        optimizer.step()\n",
    "\n",
    "        train_loss += loss.cpu().item() * B\n",
    "        \n",
    "        masks_reshape = attention_masks.view(-1)\n",
    "        logits_non_pad = logits_reshape[masks_reshape == 1]\n",
    "        labels_non_pad = labels_reshape[masks_reshape == 1]\n",
    "\n",
    "        _, predictions = torch.max(logits_non_pad, 1)\n",
    "        correct += sum(predictions == labels_non_pad)\n",
    "        amount += len(labels_non_pad)\n",
    "\n",
    "        cur_total += len(labels)\n",
    "        running_loss = train_loss / cur_total\n",
    "        running_acc = correct / amount\n",
    "        train_loop.set_postfix(loss=running_loss, acc=running_acc.item())\n",
    "\n",
    "    train_loss /= len(train_dataset)\n",
    "    train_acc = correct / amount\n",
    "\n",
    "    dev_loss = 0\n",
    "    y_true, y_pred = [], []\n",
    "    correct = 0\n",
    "    amount = 0\n",
    "    lstm_model.eval()\n",
    "    dev_loop = tqdm(dev_loader, desc=f'Epoch: {epoch + 1}/{epochs}')\n",
    "    with torch.no_grad():\n",
    "        for tokenized_inputs, bert_embeddings in dev_loop:\n",
    "            B = bert_embeddings.shape[0]\n",
    "            bert_embeddings = bert_embeddings.to(device)\n",
    "            labels = tokenized_inputs[\"labels\"].to(device)\n",
    "            attention_masks = tokenized_inputs[\"attention_mask\"].to(device)\n",
    "\n",
    "            logits = lstm_model(bert_embeddings)\n",
    "            logits_reshape = logits.view(-1, logits.shape[-1])\n",
    "            labels_reshape = labels.view(-1)\n",
    "            loss = criterion(logits_reshape, labels_reshape)\n",
    "            dev_loss += loss.cpu().item() * B\n",
    "            \n",
    "            masks_reshape = attention_masks.view(-1)\n",
    "            logits_non_pad = logits_reshape[masks_reshape == 1]\n",
    "            labels_non_pad = labels_reshape[masks_reshape == 1]\n",
    "\n",
    "            _, predictions = torch.max(logits_non_pad, 1)\n",
    "            correct += sum(predictions == labels_non_pad)\n",
    "            amount += len(labels_non_pad)\n",
    "            y_pred.extend(predictions.cpu())\n",
    "            y_true.extend(labels_non_pad.cpu())\n",
    "\n",
    "    dev_loss /= len(dev_dataset)\n",
    "    val_acc = correct / amount\n",
    "    val_precision, val_recall, val_f1, _ = precision_recall_fscore_support(y_true, y_pred, average='macro', zero_division=0)\n",
    "    print('train_loss: {:.4f}, train_acc: {:.4f}, val_loss: {:.4f}, val_acc: {:.4f}'.format(train_loss, train_acc, dev_loss, val_acc))\n",
    "    print('val_precision: {:.4f}, val_recall: {:.4f}, val_f1: {:.4f}'.format(val_precision, val_recall, val_f1))"
   ]
  }
 ],
 "metadata": {
  "kernelspec": {
   "display_name": "nlp1",
   "language": "python",
   "name": "python3"
  },
  "language_info": {
   "codemirror_mode": {
    "name": "ipython",
    "version": 3
   },
   "file_extension": ".py",
   "mimetype": "text/x-python",
   "name": "python",
   "nbconvert_exporter": "python",
   "pygments_lexer": "ipython3",
   "version": "3.9.18"
  }
 },
 "nbformat": 4,
 "nbformat_minor": 2
}
