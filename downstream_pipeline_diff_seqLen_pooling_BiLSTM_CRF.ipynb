{
 "cells": [
  {
   "cell_type": "code",
   "execution_count": 1,
   "metadata": {},
   "outputs": [
    {
     "name": "stderr",
     "output_type": "stream",
     "text": [
      "d:\\annaconda3\\envs\\nlp1\\lib\\site-packages\\tqdm\\auto.py:21: TqdmWarning: IProgress not found. Please update jupyter and ipywidgets. See https://ipywidgets.readthedocs.io/en/stable/user_install.html\n",
      "  from .autonotebook import tqdm as notebook_tqdm\n"
     ]
    }
   ],
   "source": [
    "import json\n",
    "import torch\n",
    "import torch.nn as nn\n",
    "import torch.nn.functional as F\n",
    "from pandas import read_parquet\n",
    "from transformers import BertModel, BertTokenizerFast\n",
    "from torch.utils.data import Dataset, DataLoader\n",
    "from torch.optim import Adam\n",
    "from tqdm import tqdm\n",
    "from sklearn.metrics import precision_recall_fscore_support\n",
    "from torch.nn.utils.rnn import pad_sequence\n",
    "import evaluate\n",
    "import pandas as pd\n",
    "from TorchCRF import CRF"
   ]
  },
  {
   "cell_type": "code",
   "execution_count": 2,
   "metadata": {},
   "outputs": [],
   "source": [
    "model_path = \"data/mBERT/fine\"\n",
    "\n",
    "tokenizer = BertTokenizerFast.from_pretrained(model_path)"
   ]
  },
  {
   "cell_type": "code",
   "execution_count": 3,
   "metadata": {},
   "outputs": [],
   "source": [
    "train_data = read_parquet(\"data/merge/train.parquet\")\n",
    "dev_data = read_parquet(\"data/merge/dev.parquet\")\n",
    "test_data = read_parquet(\"data/merge/test.parquet\")\n",
    "\n",
    "with open(\"data/merge/tags_2_idx.json\", \"r\") as f:\n",
    "    tags2idx = json.load(f)\n",
    "\n",
    "idx2tags = {idx: tag for tag, idx in tags2idx.items()}\n",
    "\n",
    "with open(\"data/merge/chars2idx.json\", \"r\") as f:\n",
    "    chars2idx = json.load(f)"
   ]
  },
  {
   "cell_type": "code",
   "execution_count": 4,
   "metadata": {},
   "outputs": [],
   "source": [
    "sentences_train = train_data[\"tokens\"].values.tolist()\n",
    "tags_train = train_data[\"ner_tags\"].values.tolist()\n",
    "\n",
    "sentences_dev = dev_data[\"tokens\"].values.tolist()\n",
    "tags_dev = dev_data[\"ner_tags\"].values.tolist()\n",
    "\n",
    "sentences_test = test_data[\"tokens\"].values.tolist()\n",
    "tags_test = test_data[\"ner_tags\"].values.tolist()"
   ]
  },
  {
   "cell_type": "code",
   "execution_count": 5,
   "metadata": {},
   "outputs": [
    {
     "name": "stderr",
     "output_type": "stream",
     "text": [
      "d:\\annaconda3\\envs\\nlp1\\lib\\site-packages\\torch\\_utils.py:831: UserWarning: TypedStorage is deprecated. It will be removed in the future and UntypedStorage will be the only storage class. This should only matter to you if you are using storages directly.  To access UntypedStorage directly, use tensor.untyped_storage() instead of tensor.storage()\n",
      "  return self.fget.__get__(instance, owner)()\n"
     ]
    },
    {
     "data": {
      "text/plain": [
       "BertModel(\n",
       "  (embeddings): BertEmbeddings(\n",
       "    (word_embeddings): Embedding(119547, 768, padding_idx=0)\n",
       "    (position_embeddings): Embedding(512, 768)\n",
       "    (token_type_embeddings): Embedding(2, 768)\n",
       "    (LayerNorm): LayerNorm((768,), eps=1e-12, elementwise_affine=True)\n",
       "    (dropout): Dropout(p=0.1, inplace=False)\n",
       "  )\n",
       "  (encoder): BertEncoder(\n",
       "    (layer): ModuleList(\n",
       "      (0-11): 12 x BertLayer(\n",
       "        (attention): BertAttention(\n",
       "          (self): BertSelfAttention(\n",
       "            (query): Linear(in_features=768, out_features=768, bias=True)\n",
       "            (key): Linear(in_features=768, out_features=768, bias=True)\n",
       "            (value): Linear(in_features=768, out_features=768, bias=True)\n",
       "            (dropout): Dropout(p=0.1, inplace=False)\n",
       "          )\n",
       "          (output): BertSelfOutput(\n",
       "            (dense): Linear(in_features=768, out_features=768, bias=True)\n",
       "            (LayerNorm): LayerNorm((768,), eps=1e-12, elementwise_affine=True)\n",
       "            (dropout): Dropout(p=0.1, inplace=False)\n",
       "          )\n",
       "        )\n",
       "        (intermediate): BertIntermediate(\n",
       "          (dense): Linear(in_features=768, out_features=3072, bias=True)\n",
       "          (intermediate_act_fn): GELUActivation()\n",
       "        )\n",
       "        (output): BertOutput(\n",
       "          (dense): Linear(in_features=3072, out_features=768, bias=True)\n",
       "          (LayerNorm): LayerNorm((768,), eps=1e-12, elementwise_affine=True)\n",
       "          (dropout): Dropout(p=0.1, inplace=False)\n",
       "        )\n",
       "      )\n",
       "    )\n",
       "  )\n",
       "  (pooler): BertPooler(\n",
       "    (dense): Linear(in_features=768, out_features=768, bias=True)\n",
       "    (activation): Tanh()\n",
       "  )\n",
       ")"
      ]
     },
     "execution_count": 5,
     "metadata": {},
     "output_type": "execute_result"
    }
   ],
   "source": [
    "device = torch.device(\"cuda\" if torch.cuda.is_available() else \"cpu\")\n",
    "bert = BertModel.from_pretrained(\"data/mBERT/fine\").to(device)\n",
    "bert.eval()"
   ]
  },
  {
   "cell_type": "code",
   "execution_count": 7,
   "metadata": {},
   "outputs": [],
   "source": [
    "def pooling_embedding(batch_word_ids, batch_embeddings):\n",
    "    processed_embeddings = []\n",
    "    \n",
    "    for word_ids, embeddings in zip(batch_word_ids, batch_embeddings):\n",
    "        shrunk_embeddings = []\n",
    "        current_embeddings = []\n",
    "        previous_word_idx = None\n",
    "        for i, word_idx in enumerate(word_ids):\n",
    "            if word_idx is None:\n",
    "                continue\n",
    "            if word_idx == previous_word_idx:\n",
    "                current_embeddings.append(embeddings[i])\n",
    "            else:\n",
    "                if current_embeddings:\n",
    "                    shrunk_embeddings.append(\n",
    "                        torch.mean(torch.stack(current_embeddings), dim=0)\n",
    "                    )\n",
    "                    current_embeddings.clear()\n",
    "                current_embeddings.append(embeddings[i])\n",
    "                previous_word_idx = word_idx\n",
    "        if current_embeddings:\n",
    "            shrunk_embeddings.append(\n",
    "                torch.mean(torch.stack(current_embeddings), dim=0)\n",
    "            )\n",
    "    \n",
    "        processed_embeddings.append(torch.stack(shrunk_embeddings))\n",
    "\n",
    "    return processed_embeddings\n",
    "                    "
   ]
  },
  {
   "cell_type": "code",
   "execution_count": 8,
   "metadata": {},
   "outputs": [],
   "source": [
    "class MultilingualDataset(Dataset):\n",
    "    def __init__(self, sentences, labels):\n",
    "        self.sentences = sentences\n",
    "        self.labels = labels\n",
    "\n",
    "    def __len__(self):\n",
    "        return len(self.labels)\n",
    "\n",
    "    def __getitem__(self, idx):\n",
    "        return self.sentences[idx].tolist(), torch.tensor(self.labels[idx].tolist(), dtype=int), idx\n",
    "    \n",
    "def collate_fn(batch):\n",
    "    sentences, labels, ids = zip(*batch)\n",
    "    # print([len(x) for x in sentences])\n",
    "    B = len(labels)\n",
    "    tokenized_inputs_list = [\n",
    "        tokenizer(sentence, is_split_into_words=True, truncation=True, return_tensors=\"pt\")\n",
    "        for sentence in sentences\n",
    "    ]\n",
    "    input_ids = [x[\"input_ids\"][0] for x in tokenized_inputs_list]\n",
    "    input_ids = pad_sequence(input_ids, batch_first=True, padding_value=0).to(device)\n",
    "    attention_mask = [x[\"attention_mask\"][0] for x in tokenized_inputs_list]\n",
    "    attention_mask = pad_sequence(attention_mask, batch_first=True, padding_value=0).to(device)\n",
    "    with torch.no_grad():\n",
    "        bert_output = bert(input_ids, attention_mask)\n",
    "    bert_embeddings = bert_output[\"last_hidden_state\"]\n",
    "    \n",
    "    word_ids = [x.word_ids() for x in tokenized_inputs_list]\n",
    "    pooled_embeddings = pooling_embedding(word_ids, bert_embeddings)\n",
    "    batch_embeddings = pad_sequence(pooled_embeddings, batch_first=True, padding_value=0)\n",
    "    # print(batch_embeddings.shape)\n",
    "    T = batch_embeddings.shape[1]   # The original length might be larger than T (at most 512)\n",
    "    labels = [x[:T] for x in labels]\n",
    "    sentences = [x[:T] for x in sentences]\n",
    "    batch_labels = pad_sequence(labels, batch_first=True, padding_value=-100)\n",
    "\n",
    "    L = max(len(word) for sentence in sentences for word in sentence)\n",
    "    batch_char_ids = torch.zeros(B, T, L, dtype=int)\n",
    "    for i in range(B):\n",
    "        for j in range(len(sentences[i])):\n",
    "            cur_word = sentences[i][j]\n",
    "            for k in range(len(cur_word)):\n",
    "                batch_char_ids[i][j][k] = chars2idx.get(cur_word[k], chars2idx[\"<unk>\"])\n",
    "    try:\n",
    "        assert batch_embeddings.shape[1] == batch_labels.shape[1], f\"batch_embeddings: {batch_embeddings.shape} batch_labels: {batch_labels.shape}\"\n",
    "        assert batch_embeddings.shape[1] == batch_char_ids.shape[1]\n",
    "    except:\n",
    "        print(T)\n",
    "        print(ids)\n",
    "        print(batch_embeddings.shape)\n",
    "        print(batch_char_ids.shape)\n",
    "    return batch_embeddings, batch_labels, batch_char_ids"
   ]
  },
  {
   "cell_type": "markdown",
   "metadata": {},
   "source": [
    "the next 2 blocks are used for testing"
   ]
  },
  {
   "cell_type": "code",
   "execution_count": 8,
   "metadata": {},
   "outputs": [
    {
     "name": "stdout",
     "output_type": "stream",
     "text": [
      "torch.Size([2, 17, 768]) torch.Size([2, 17]) torch.Size([2, 17, 1])\n"
     ]
    }
   ],
   "source": [
    "train_dataset = MultilingualDataset(sentences_train, tags_train)\n",
    "train_loader = DataLoader(\n",
    "    dataset=train_dataset,\n",
    "    batch_size=2,\n",
    "    collate_fn=collate_fn\n",
    ")\n",
    "for data in train_loader:\n",
    "    bert_embeddings, labels, char_ids = data\n",
    "    print(bert_embeddings.shape, labels.shape, char_ids.shape)\n",
    "    break"
   ]
  },
  {
   "cell_type": "code",
   "execution_count": 9,
   "metadata": {},
   "outputs": [
    {
     "name": "stdout",
     "output_type": "stream",
     "text": [
      "original labels size: [9, 3]\n",
      "[11, 5]\n"
     ]
    }
   ],
   "source": [
    "sentences = [train_dataset[2418][0], train_dataset[2419][0]]\n",
    "labels = [train_dataset[2418][1], train_dataset[2419][1]]\n",
    "print(f\"original labels size: {[len(x) for x in labels]}\")\n",
    "tokenized_inputs_list = [\n",
    "    tokenizer(sentence, is_split_into_words=True, truncation=True, return_tensors=\"pt\")\n",
    "    for sentence in sentences\n",
    "]\n",
    "input_ids = [x[\"input_ids\"][0] for x in tokenized_inputs_list]\n",
    "print([len(x) for x in input_ids])\n",
    "input_ids = pad_sequence(input_ids, batch_first=True, padding_value=0).to(device)\n",
    "attention_mask = [x[\"attention_mask\"][0] for x in tokenized_inputs_list]\n",
    "attention_mask = pad_sequence(attention_mask, batch_first=True, padding_value=0).to(device)\n",
    "with torch.no_grad():\n",
    "    bert_output = bert(input_ids, attention_mask)\n",
    "bert_embeddings = bert_output[\"last_hidden_state\"]\n",
    "word_ids = [x.word_ids() for x in tokenized_inputs_list]\n",
    "pooled_embeddings = pooling_embedding(word_ids, bert_embeddings)\n",
    "batch_embeddings = pad_sequence(pooled_embeddings, batch_first=True, padding_value=0)\n",
    "# print(batch_embeddings.shape)\n",
    "B = 2\n",
    "T = batch_embeddings.shape[1]\n",
    "labels = [x[:T] for x in labels]\n",
    "sentences = [x[:T] for x in sentences]\n",
    "batch_labels = pad_sequence(labels, batch_first=True, padding_value=-100)\n",
    "L = max(len(word) for sentence in sentences for word in sentence)\n",
    "batch_char_ids = torch.zeros(B, T, L, dtype=int)\n",
    "for i in range(B):\n",
    "    for j in range(len(sentences[i])):\n",
    "        cur_word = sentences[i][j]\n",
    "        for k in range(len(cur_word)):\n",
    "            try: \n",
    "                batch_char_ids[i][j][k] = chars2idx.get(cur_word[k], chars2idx[\"<unk>\"])\n",
    "            except:\n",
    "                print(i, j, k)"
   ]
  },
  {
   "cell_type": "markdown",
   "metadata": {},
   "source": [
    "# BiLSTM_CFR model training and evaluation"
   ]
  },
  {
   "cell_type": "code",
   "execution_count": 10,
   "metadata": {},
   "outputs": [],
   "source": [
    "class BiLSTM_CRF(nn.Module):\n",
    "    def __init__(\n",
    "            self, input_size,\n",
    "            lstm_hidden_dim, lstm_num_layers, lstm_dropout,\n",
    "            linear_output_dim, label_size\n",
    "    ):\n",
    "        super().__init__()\n",
    "        self.lstm = nn.LSTM(\n",
    "            input_size=input_size,\n",
    "            hidden_size=lstm_hidden_dim,\n",
    "            num_layers=lstm_num_layers,\n",
    "            batch_first=True,\n",
    "            dropout=lstm_dropout,\n",
    "            bidirectional=True\n",
    "        )\n",
    "        self.fc = nn.Linear(2 * lstm_hidden_dim, label_size)\n",
    "        self.crf = CRF(label_size)\n",
    "\n",
    "    def forward(self, x, mask=None):\n",
    "        # LSTM layer\n",
    "        lstm_out, _ = self.lstm(x)\n",
    "\n",
    "        # Linear layer\n",
    "        emissions = self.fc(lstm_out)\n",
    "\n",
    "        if mask is not None:\n",
    "            emissions = emissions[mask]  # Apply the mask if provided\n",
    "\n",
    "        # CRF layer\n",
    "        # if self.training:\n",
    "        return emissions  # During training, return emissions for CRF training\n",
    "        # else:\n",
    "            # tags = self.crf.decode(emissions)  # During evaluation, decode the tags\n",
    "            # return tags"
   ]
  },
  {
   "cell_type": "code",
   "execution_count": 11,
   "metadata": {},
   "outputs": [],
   "source": [
    "train_dataset = MultilingualDataset(sentences_train, tags_train)\n",
    "dev_dataset = MultilingualDataset(sentences_dev, tags_dev)\n",
    "test_dataset = MultilingualDataset(sentences_test, tags_test)\n",
    "train_loader = DataLoader(\n",
    "    dataset=train_dataset,\n",
    "    batch_size=2,\n",
    "    shuffle=True,\n",
    "    collate_fn=collate_fn\n",
    ")\n",
    "dev_loader = DataLoader(\n",
    "    dataset=dev_dataset,\n",
    "    batch_size=2,\n",
    "    shuffle=False,\n",
    "    collate_fn=collate_fn\n",
    ")\n",
    "lstm_model = BiLSTM_CRF(\n",
    "    input_size=768,\n",
    "    lstm_hidden_dim=256, lstm_num_layers=2, lstm_dropout=0.33,\n",
    "    linear_output_dim=len(idx2tags), label_size=len(idx2tags)\n",
    ")\n",
    "lstm_model = lstm_model.to(device)\n",
    "\n",
    "criterion = nn.CrossEntropyLoss(ignore_index=-100)\n",
    "optimizer = Adam(lstm_model.parameters(), lr=1e-3)\n",
    "epochs = 5"
   ]
  },
  {
   "cell_type": "code",
   "execution_count": 16,
   "metadata": {},
   "outputs": [
    {
     "name": "stdout",
     "output_type": "stream",
     "text": [
      "Epoch: 1/5\n"
     ]
    },
    {
     "name": "stderr",
     "output_type": "stream",
     "text": [
      "Epoch: 1/5: 100%|██████████| 40050/40050 [21:25<00:00, 31.17it/s, acc=0.865, loss=0.404] \n",
      "Epoch: 1/5: 100%|██████████| 20050/20050 [06:59<00:00, 47.82it/s]\n"
     ]
    },
    {
     "name": "stdout",
     "output_type": "stream",
     "text": [
      "train_loss: 0.4036, train_acc: 0.8652, val_loss: 0.2976, val_acc: 0.8866\n",
      "val_precision: 0.8604, val_recall: 0.7897, val_f1: 0.8195\n",
      "update dev_loss from inf -> 0.29756352573061406\n",
      "Epoch: 2/5\n"
     ]
    },
    {
     "name": "stderr",
     "output_type": "stream",
     "text": [
      "Epoch: 2/5: 100%|██████████| 40050/40050 [20:52<00:00, 31.97it/s, acc=0.889, loss=0.327]\n",
      "Epoch: 2/5: 100%|██████████| 20050/20050 [06:52<00:00, 48.61it/s]\n"
     ]
    },
    {
     "name": "stdout",
     "output_type": "stream",
     "text": [
      "train_loss: 0.3269, train_acc: 0.8886, val_loss: 0.2731, val_acc: 0.8950\n",
      "val_precision: 0.8638, val_recall: 0.8103, val_f1: 0.8331\n",
      "update dev_loss from 0.29756352573061406 -> 0.2731456902275542\n",
      "Epoch: 3/5\n"
     ]
    },
    {
     "name": "stderr",
     "output_type": "stream",
     "text": [
      "Epoch: 3/5: 100%|██████████| 40050/40050 [20:50<00:00, 32.03it/s, acc=0.896, loss=0.303]\n",
      "Epoch: 3/5: 100%|██████████| 20050/20050 [06:51<00:00, 48.77it/s]\n"
     ]
    },
    {
     "name": "stdout",
     "output_type": "stream",
     "text": [
      "train_loss: 0.3029, train_acc: 0.8958, val_loss: 0.2605, val_acc: 0.9011\n",
      "val_precision: 0.8480, val_recall: 0.8492, val_f1: 0.8483\n",
      "update dev_loss from 0.2731456902275542 -> 0.26049925547421166\n",
      "Epoch: 4/5\n"
     ]
    },
    {
     "name": "stderr",
     "output_type": "stream",
     "text": [
      "Epoch: 4/5: 100%|██████████| 40050/40050 [20:28<00:00, 32.59it/s, acc=0.901, loss=0.285]\n",
      "Epoch: 4/5: 100%|██████████| 20050/20050 [06:41<00:00, 49.93it/s]\n"
     ]
    },
    {
     "name": "stdout",
     "output_type": "stream",
     "text": [
      "train_loss: 0.2849, train_acc: 0.9008, val_loss: 0.2781, val_acc: 0.9029\n",
      "val_precision: 0.8546, val_recall: 0.8441, val_f1: 0.8487\n",
      "Epoch: 5/5\n"
     ]
    },
    {
     "name": "stderr",
     "output_type": "stream",
     "text": [
      "Epoch: 5/5: 100%|██████████| 40050/40050 [20:31<00:00, 32.53it/s, acc=0.902, loss=0.277]\n",
      "Epoch: 5/5: 100%|██████████| 20050/20050 [06:46<00:00, 49.31it/s]\n"
     ]
    },
    {
     "name": "stdout",
     "output_type": "stream",
     "text": [
      "train_loss: 0.2765, train_acc: 0.9024, val_loss: 0.2533, val_acc: 0.9059\n",
      "val_precision: 0.8656, val_recall: 0.8414, val_f1: 0.8530\n",
      "update dev_loss from 0.26049925547421166 -> 0.2532983063253707\n"
     ]
    }
   ],
   "source": [
    "best_loss = torch.inf\n",
    "\n",
    "for epoch in range(epochs):\n",
    "    print(f'Epoch: {epoch + 1}/{epochs}')\n",
    "    train_loss = 0\n",
    "    cur_total = 0\n",
    "    correct = 0\n",
    "    amount = 0\n",
    "    lstm_model.train()\n",
    "    train_loop = tqdm(train_loader, desc=f'Epoch: {epoch + 1}/{epochs}')\n",
    "    for bert_embeddings, labels, char_ids in train_loop:\n",
    "        B = bert_embeddings.shape[0]\n",
    "        bert_embeddings = bert_embeddings.to(device)\n",
    "        labels = labels.to(device)\n",
    "\n",
    "        optimizer.zero_grad()\n",
    "        logits = lstm_model(bert_embeddings)\n",
    "        logits_reshape = logits.view(-1, logits.shape[-1])\n",
    "        labels_reshape = labels.view(-1)\n",
    "        loss = criterion(logits_reshape, labels_reshape)\n",
    "        loss.backward()\n",
    "        optimizer.step()\n",
    "\n",
    "        train_loss += loss.cpu().item() * B\n",
    "\n",
    "        mask = labels_reshape != -100\n",
    "        \n",
    "        logits_non_pad = logits_reshape[mask]\n",
    "        labels_non_pad = labels_reshape[mask]\n",
    "\n",
    "        _, predictions = torch.max(logits_non_pad, 1)\n",
    "        correct += sum(predictions == labels_non_pad)\n",
    "        amount += len(labels_non_pad)\n",
    "\n",
    "        cur_total += B\n",
    "        running_loss = train_loss / cur_total\n",
    "        running_acc = correct / amount\n",
    "        train_loop.set_postfix(loss=running_loss, acc=running_acc.item())\n",
    "\n",
    "    train_loss /= len(train_dataset)\n",
    "    train_acc = correct / amount\n",
    "\n",
    "    dev_loss = 0\n",
    "    y_true, y_pred = [], []\n",
    "    correct = 0\n",
    "    amount = 0\n",
    "    lstm_model.eval()\n",
    "    dev_loop = tqdm(dev_loader, desc=f'Epoch: {epoch + 1}/{epochs}')\n",
    "    with torch.no_grad():\n",
    "        for bert_embeddings, labels, char_ids in dev_loop:\n",
    "            B = bert_embeddings.shape[0]\n",
    "            bert_embeddings = bert_embeddings.to(device)\n",
    "            labels = labels.to(device)\n",
    "\n",
    "            logits = lstm_model(bert_embeddings)\n",
    "            logits_reshape = logits.view(-1, logits.shape[-1])\n",
    "            labels_reshape = labels.view(-1)\n",
    "            loss = criterion(logits_reshape, labels_reshape)\n",
    "            dev_loss += loss.cpu().item() * B\n",
    "            \n",
    "            mask = labels_reshape != -100\n",
    "            logits_non_pad = logits_reshape[mask]\n",
    "            labels_non_pad = labels_reshape[mask]\n",
    "\n",
    "            _, predictions = torch.max(logits_non_pad, 1)\n",
    "            correct += sum(predictions == labels_non_pad)\n",
    "            amount += len(labels_non_pad)\n",
    "            y_pred.extend(predictions.cpu())\n",
    "            y_true.extend(labels_non_pad.cpu())\n",
    "\n",
    "    dev_loss /= len(dev_dataset)\n",
    "    val_acc = correct / amount\n",
    "    val_precision, val_recall, val_f1, _ = precision_recall_fscore_support(y_true, y_pred, average='macro', zero_division=0)\n",
    "    print('train_loss: {:.4f}, train_acc: {:.4f}, val_loss: {:.4f}, val_acc: {:.4f}'.format(train_loss, train_acc, dev_loss, val_acc))\n",
    "    print('val_precision: {:.4f}, val_recall: {:.4f}, val_f1: {:.4f}'.format(val_precision, val_recall, val_f1))\n",
    "\n",
    "    if dev_loss < best_loss:\n",
    "        print(f\"update dev_loss from {best_loss} -> {dev_loss}\")\n",
    "        best_loss = dev_loss\n",
    "        torch.save(lstm_model.state_dict(), \"best_lstm_model.pt\")"
   ]
  },
  {
   "cell_type": "code",
   "execution_count": 12,
   "metadata": {},
   "outputs": [
    {
     "data": {
      "text/plain": [
       "<All keys matched successfully>"
      ]
     },
     "execution_count": 12,
     "metadata": {},
     "output_type": "execute_result"
    }
   ],
   "source": [
    "state_dict = torch.load(\"best_lstm_model.pt\")\n",
    "lstm_model.load_state_dict(state_dict)"
   ]
  },
  {
   "cell_type": "code",
   "execution_count": 32,
   "metadata": {},
   "outputs": [],
   "source": [
    "seqeval = evaluate.load(r\".\\evaluate-main\\evaluate-main\\metrics\\seqeval\")"
   ]
  },
  {
   "cell_type": "code",
   "execution_count": 26,
   "metadata": {},
   "outputs": [
    {
     "name": "stderr",
     "output_type": "stream",
     "text": [
      "100%|██████████| 40100/40100 [10:24<00:00, 64.18it/s]\n"
     ]
    }
   ],
   "source": [
    "dev_predictions = []\n",
    "dev_references = []\n",
    "lstm_model.eval()\n",
    "dev_loader = DataLoader(\n",
    "    dataset=dev_dataset,\n",
    "    batch_size=1,   # use batch_size=1 => no padding needed\n",
    "    shuffle=False,\n",
    "    collate_fn=collate_fn\n",
    ")\n",
    "for bert_embeddings, labels, char_ids in tqdm(dev_loader):\n",
    "    bert_embeddings = bert_embeddings.to(device)\n",
    "    with torch.no_grad():\n",
    "        logits = lstm_model(bert_embeddings)\n",
    "    logit = logits[0].cpu()\n",
    "    label = labels[0]\n",
    "    _, prediction = torch.max(logit, dim=1)\n",
    "    assert len(prediction) == len(label)\n",
    "    prediction_tag, reference_tag = [], []\n",
    "    for p_idx, r_idx in zip(prediction, label):\n",
    "        prediction_tag.append(idx2tags[p_idx.item()])\n",
    "        reference_tag.append(idx2tags[r_idx.item()])\n",
    "    dev_predictions.append(prediction_tag)\n",
    "    dev_references.append(reference_tag)"
   ]
  },
  {
   "cell_type": "code",
   "execution_count": 31,
   "metadata": {},
   "outputs": [
    {
     "data": {
      "text/plain": [
       "{'LOC': {'precision': 0.7927988083620114,\n",
       "  'recall': 0.8008197571858462,\n",
       "  'f1': 0.7967890973853341,\n",
       "  'number': 19274},\n",
       " 'ORG': {'precision': 0.6547136756815942,\n",
       "  'recall': 0.7437189054726369,\n",
       "  'f1': 0.6963838583823444,\n",
       "  'number': 16080},\n",
       " 'PER': {'precision': 0.8282334480053111,\n",
       "  'recall': 0.8289338568408335,\n",
       "  'f1': 0.8285835044076801,\n",
       "  'number': 16555},\n",
       " 'overall_precision': 0.7571633765468474,\n",
       " 'overall_recall': 0.7920977094530813,\n",
       " 'overall_f1': 0.77423667535989,\n",
       " 'overall_accuracy': 0.9060073944565635}"
      ]
     },
     "execution_count": 31,
     "metadata": {},
     "output_type": "execute_result"
    }
   ],
   "source": [
    "dev_result = seqeval.compute(predictions=dev_predictions, references=dev_references)\n",
    "dev_result"
   ]
  },
  {
   "cell_type": "code",
   "execution_count": 33,
   "metadata": {},
   "outputs": [
    {
     "name": "stderr",
     "output_type": "stream",
     "text": [
      "100%|██████████| 40100/40100 [16:05<00:00, 41.53it/s]\n"
     ]
    }
   ],
   "source": [
    "test_predictions = []\n",
    "test_references = []\n",
    "lstm_model.eval()\n",
    "test_loader = DataLoader(\n",
    "    dataset=test_dataset,\n",
    "    batch_size=1,   # use batch_size=1 => no padding needed\n",
    "    shuffle=False,\n",
    "    collate_fn=collate_fn\n",
    ")\n",
    "for bert_embeddings, labels, char_ids in tqdm(test_loader):\n",
    "    bert_embeddings = bert_embeddings.to(device)\n",
    "    with torch.no_grad():\n",
    "        logits = lstm_model(bert_embeddings)\n",
    "    logit = logits[0].cpu()\n",
    "    label = labels[0]\n",
    "    _, prediction = torch.max(logit, dim=1)\n",
    "    assert len(prediction) == len(label)\n",
    "    prediction_tag, reference_tag = [], []\n",
    "    for p_idx, r_idx in zip(prediction, label):\n",
    "        prediction_tag.append(idx2tags[p_idx.item()])\n",
    "        reference_tag.append(idx2tags[r_idx.item()])\n",
    "    test_predictions.append(prediction_tag)\n",
    "    test_references.append(reference_tag)"
   ]
  },
  {
   "cell_type": "code",
   "execution_count": 34,
   "metadata": {},
   "outputs": [
    {
     "data": {
      "text/plain": [
       "{'LOC': {'precision': 0.7791982000409081,\n",
       "  'recall': 0.7786805662016455,\n",
       "  'f1': 0.7789392971246006,\n",
       "  'number': 19569},\n",
       " 'ORG': {'precision': 0.6256896013323618,\n",
       "  'recall': 0.7112767719796473,\n",
       "  'f1': 0.6657437146970872,\n",
       "  'number': 16902},\n",
       " 'PER': {'precision': 0.8182443272977309,\n",
       "  'recall': 0.8302325581395349,\n",
       "  'f1': 0.8241948516680134,\n",
       "  'number': 17200},\n",
       " 'overall_precision': 0.7388566753228274,\n",
       " 'overall_recall': 0.7739747722233609,\n",
       " 'overall_f1': 0.7560081169865231,\n",
       " 'overall_accuracy': 0.9041126316132109}"
      ]
     },
     "execution_count": 34,
     "metadata": {},
     "output_type": "execute_result"
    }
   ],
   "source": [
    "test_result = seqeval.compute(predictions=test_predictions, references=test_references)\n",
    "test_result"
   ]
  },
  {
   "cell_type": "code",
   "execution_count": 40,
   "metadata": {},
   "outputs": [],
   "source": [
    "dev_tokens = []\n",
    "assert len(dev_dataset) == len(dev_predictions)\n",
    "for i in range(len(dev_dataset)):\n",
    "    token = dev_dataset[i][0]\n",
    "    prediction = dev_predictions[i]\n",
    "    assert len(token) >= len(prediction)\n",
    "    if len(token) != len(prediction):\n",
    "        token = token[:len(prediction)]\n",
    "    dev_tokens.append(token)\n",
    "\n",
    "test_tokens = []\n",
    "assert len(test_dataset) == len(test_predictions)\n",
    "for i in range(len(test_dataset)):\n",
    "    token = test_dataset[i][0]\n",
    "    prediction = test_predictions[i]\n",
    "    assert len(token) >= len(prediction)\n",
    "    if len(token) != len(prediction):\n",
    "        token = token[:len(prediction)]\n",
    "    test_tokens.append(token)\n",
    "\n",
    "dev_df = pd.DataFrame({\n",
    "    \"tokens\": dev_tokens,\n",
    "    \"predictions\": dev_predictions\n",
    "})\n",
    "test_df = pd.DataFrame({\n",
    "    \"tokens\": test_tokens,\n",
    "    \"predictions\": test_predictions\n",
    "})\n",
    "\n",
    "torch.save(lstm_model.state_dict(), \"trained_model_BiLSTM_CRF.bin\")\n",
    "dev_df.to_csv(\"BiLSTM_CRF_dev.csv\")\n",
    "test_df.to_csv(\"BiLSTM_CRF_test.csv\")"
   ]
  }
 ],
 "metadata": {
  "kernelspec": {
   "display_name": "py310",
   "language": "python",
   "name": "py310"
  },
  "language_info": {
   "codemirror_mode": {
    "name": "ipython",
    "version": 3
   },
   "file_extension": ".py",
   "mimetype": "text/x-python",
   "name": "python",
   "nbconvert_exporter": "python",
   "pygments_lexer": "ipython3",
   "version": "3.11.4"
  }
 },
 "nbformat": 4,
 "nbformat_minor": 4
}
