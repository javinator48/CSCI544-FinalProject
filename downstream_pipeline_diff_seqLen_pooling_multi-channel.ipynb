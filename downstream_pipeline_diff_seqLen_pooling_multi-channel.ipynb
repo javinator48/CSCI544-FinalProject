{
 "cells": [
  {
   "cell_type": "code",
   "execution_count": 1,
   "metadata": {},
   "outputs": [
    {
     "name": "stderr",
     "output_type": "stream",
     "text": [
      "C:\\Users\\monkeydc\\.conda\\envs\\561\\lib\\site-packages\\tqdm\\auto.py:22: TqdmWarning: IProgress not found. Please update jupyter and ipywidgets. See https://ipywidgets.readthedocs.io/en/stable/user_install.html\n",
      "  from .autonotebook import tqdm as notebook_tqdm\n"
     ]
    }
   ],
   "source": [
    "import json\n",
    "import torch\n",
    "import torch.nn as nn\n",
    "import torch.nn.functional as F\n",
    "from pandas import read_parquet\n",
    "from transformers import BertModel, BertTokenizerFast\n",
    "from torch.utils.data import Dataset, DataLoader\n",
    "from torch.optim import Adam\n",
    "from tqdm import tqdm\n",
    "from sklearn.metrics import precision_recall_fscore_support\n",
    "from torch.nn.utils.rnn import pad_sequence\n",
    "import evaluate\n",
    "import pandas as pd"
   ]
  },
  {
   "cell_type": "code",
   "execution_count": 2,
   "metadata": {},
   "outputs": [],
   "source": [
    "model_path = \"data/mBERT/fine\"\n",
    "\n",
    "tokenizer = BertTokenizerFast.from_pretrained(model_path)"
   ]
  },
  {
   "cell_type": "code",
   "execution_count": 3,
   "metadata": {},
   "outputs": [],
   "source": [
    "train_data = read_parquet(\"data/merge/train.parquet\")\n",
    "dev_data = read_parquet(\"data/merge/dev.parquet\")\n",
    "test_data = read_parquet(\"data/merge/test.parquet\")\n",
    "\n",
    "with open(\"data/merge/tags_2_idx.json\", \"r\") as f:\n",
    "    tags2idx = json.load(f)\n",
    "\n",
    "idx2tags = {idx: tag for tag, idx in tags2idx.items()}\n",
    "\n",
    "with open(\"data/merge/chars2idx.json\", \"r\") as f:\n",
    "    chars2idx = json.load(f)"
   ]
  },
  {
   "cell_type": "code",
   "execution_count": 4,
   "metadata": {},
   "outputs": [],
   "source": [
    "sentences_train = train_data[\"tokens\"].values.tolist()\n",
    "tags_train = train_data[\"ner_tags\"].values.tolist()\n",
    "\n",
    "sentences_dev = dev_data[\"tokens\"].values.tolist()\n",
    "tags_dev = dev_data[\"ner_tags\"].values.tolist()\n",
    "\n",
    "sentences_test = test_data[\"tokens\"].values.tolist()\n",
    "tags_test = test_data[\"ner_tags\"].values.tolist()"
   ]
  },
  {
   "cell_type": "code",
   "execution_count": 5,
   "metadata": {},
   "outputs": [
    {
     "name": "stderr",
     "output_type": "stream",
     "text": [
      "Some weights of the model checkpoint at data/mBERT/fine were not used when initializing BertModel: ['cls.predictions.transform.LayerNorm.bias', 'cls.predictions.transform.dense.bias', 'cls.seq_relationship.bias', 'cls.predictions.decoder.weight', 'cls.predictions.transform.LayerNorm.weight', 'cls.seq_relationship.weight', 'cls.predictions.bias', 'cls.predictions.transform.dense.weight']\n",
      "- This IS expected if you are initializing BertModel from the checkpoint of a model trained on another task or with another architecture (e.g. initializing a BertForSequenceClassification model from a BertForPreTraining model).\n",
      "- This IS NOT expected if you are initializing BertModel from the checkpoint of a model that you expect to be exactly identical (initializing a BertForSequenceClassification model from a BertForSequenceClassification model).\n"
     ]
    },
    {
     "data": {
      "text/plain": [
       "BertModel(\n",
       "  (embeddings): BertEmbeddings(\n",
       "    (word_embeddings): Embedding(119547, 768, padding_idx=0)\n",
       "    (position_embeddings): Embedding(512, 768)\n",
       "    (token_type_embeddings): Embedding(2, 768)\n",
       "    (LayerNorm): LayerNorm((768,), eps=1e-12, elementwise_affine=True)\n",
       "    (dropout): Dropout(p=0.1, inplace=False)\n",
       "  )\n",
       "  (encoder): BertEncoder(\n",
       "    (layer): ModuleList(\n",
       "      (0): BertLayer(\n",
       "        (attention): BertAttention(\n",
       "          (self): BertSelfAttention(\n",
       "            (query): Linear(in_features=768, out_features=768, bias=True)\n",
       "            (key): Linear(in_features=768, out_features=768, bias=True)\n",
       "            (value): Linear(in_features=768, out_features=768, bias=True)\n",
       "            (dropout): Dropout(p=0.1, inplace=False)\n",
       "          )\n",
       "          (output): BertSelfOutput(\n",
       "            (dense): Linear(in_features=768, out_features=768, bias=True)\n",
       "            (LayerNorm): LayerNorm((768,), eps=1e-12, elementwise_affine=True)\n",
       "            (dropout): Dropout(p=0.1, inplace=False)\n",
       "          )\n",
       "        )\n",
       "        (intermediate): BertIntermediate(\n",
       "          (dense): Linear(in_features=768, out_features=3072, bias=True)\n",
       "          (intermediate_act_fn): GELUActivation()\n",
       "        )\n",
       "        (output): BertOutput(\n",
       "          (dense): Linear(in_features=3072, out_features=768, bias=True)\n",
       "          (LayerNorm): LayerNorm((768,), eps=1e-12, elementwise_affine=True)\n",
       "          (dropout): Dropout(p=0.1, inplace=False)\n",
       "        )\n",
       "      )\n",
       "      (1): BertLayer(\n",
       "        (attention): BertAttention(\n",
       "          (self): BertSelfAttention(\n",
       "            (query): Linear(in_features=768, out_features=768, bias=True)\n",
       "            (key): Linear(in_features=768, out_features=768, bias=True)\n",
       "            (value): Linear(in_features=768, out_features=768, bias=True)\n",
       "            (dropout): Dropout(p=0.1, inplace=False)\n",
       "          )\n",
       "          (output): BertSelfOutput(\n",
       "            (dense): Linear(in_features=768, out_features=768, bias=True)\n",
       "            (LayerNorm): LayerNorm((768,), eps=1e-12, elementwise_affine=True)\n",
       "            (dropout): Dropout(p=0.1, inplace=False)\n",
       "          )\n",
       "        )\n",
       "        (intermediate): BertIntermediate(\n",
       "          (dense): Linear(in_features=768, out_features=3072, bias=True)\n",
       "          (intermediate_act_fn): GELUActivation()\n",
       "        )\n",
       "        (output): BertOutput(\n",
       "          (dense): Linear(in_features=3072, out_features=768, bias=True)\n",
       "          (LayerNorm): LayerNorm((768,), eps=1e-12, elementwise_affine=True)\n",
       "          (dropout): Dropout(p=0.1, inplace=False)\n",
       "        )\n",
       "      )\n",
       "      (2): BertLayer(\n",
       "        (attention): BertAttention(\n",
       "          (self): BertSelfAttention(\n",
       "            (query): Linear(in_features=768, out_features=768, bias=True)\n",
       "            (key): Linear(in_features=768, out_features=768, bias=True)\n",
       "            (value): Linear(in_features=768, out_features=768, bias=True)\n",
       "            (dropout): Dropout(p=0.1, inplace=False)\n",
       "          )\n",
       "          (output): BertSelfOutput(\n",
       "            (dense): Linear(in_features=768, out_features=768, bias=True)\n",
       "            (LayerNorm): LayerNorm((768,), eps=1e-12, elementwise_affine=True)\n",
       "            (dropout): Dropout(p=0.1, inplace=False)\n",
       "          )\n",
       "        )\n",
       "        (intermediate): BertIntermediate(\n",
       "          (dense): Linear(in_features=768, out_features=3072, bias=True)\n",
       "          (intermediate_act_fn): GELUActivation()\n",
       "        )\n",
       "        (output): BertOutput(\n",
       "          (dense): Linear(in_features=3072, out_features=768, bias=True)\n",
       "          (LayerNorm): LayerNorm((768,), eps=1e-12, elementwise_affine=True)\n",
       "          (dropout): Dropout(p=0.1, inplace=False)\n",
       "        )\n",
       "      )\n",
       "      (3): BertLayer(\n",
       "        (attention): BertAttention(\n",
       "          (self): BertSelfAttention(\n",
       "            (query): Linear(in_features=768, out_features=768, bias=True)\n",
       "            (key): Linear(in_features=768, out_features=768, bias=True)\n",
       "            (value): Linear(in_features=768, out_features=768, bias=True)\n",
       "            (dropout): Dropout(p=0.1, inplace=False)\n",
       "          )\n",
       "          (output): BertSelfOutput(\n",
       "            (dense): Linear(in_features=768, out_features=768, bias=True)\n",
       "            (LayerNorm): LayerNorm((768,), eps=1e-12, elementwise_affine=True)\n",
       "            (dropout): Dropout(p=0.1, inplace=False)\n",
       "          )\n",
       "        )\n",
       "        (intermediate): BertIntermediate(\n",
       "          (dense): Linear(in_features=768, out_features=3072, bias=True)\n",
       "          (intermediate_act_fn): GELUActivation()\n",
       "        )\n",
       "        (output): BertOutput(\n",
       "          (dense): Linear(in_features=3072, out_features=768, bias=True)\n",
       "          (LayerNorm): LayerNorm((768,), eps=1e-12, elementwise_affine=True)\n",
       "          (dropout): Dropout(p=0.1, inplace=False)\n",
       "        )\n",
       "      )\n",
       "      (4): BertLayer(\n",
       "        (attention): BertAttention(\n",
       "          (self): BertSelfAttention(\n",
       "            (query): Linear(in_features=768, out_features=768, bias=True)\n",
       "            (key): Linear(in_features=768, out_features=768, bias=True)\n",
       "            (value): Linear(in_features=768, out_features=768, bias=True)\n",
       "            (dropout): Dropout(p=0.1, inplace=False)\n",
       "          )\n",
       "          (output): BertSelfOutput(\n",
       "            (dense): Linear(in_features=768, out_features=768, bias=True)\n",
       "            (LayerNorm): LayerNorm((768,), eps=1e-12, elementwise_affine=True)\n",
       "            (dropout): Dropout(p=0.1, inplace=False)\n",
       "          )\n",
       "        )\n",
       "        (intermediate): BertIntermediate(\n",
       "          (dense): Linear(in_features=768, out_features=3072, bias=True)\n",
       "          (intermediate_act_fn): GELUActivation()\n",
       "        )\n",
       "        (output): BertOutput(\n",
       "          (dense): Linear(in_features=3072, out_features=768, bias=True)\n",
       "          (LayerNorm): LayerNorm((768,), eps=1e-12, elementwise_affine=True)\n",
       "          (dropout): Dropout(p=0.1, inplace=False)\n",
       "        )\n",
       "      )\n",
       "      (5): BertLayer(\n",
       "        (attention): BertAttention(\n",
       "          (self): BertSelfAttention(\n",
       "            (query): Linear(in_features=768, out_features=768, bias=True)\n",
       "            (key): Linear(in_features=768, out_features=768, bias=True)\n",
       "            (value): Linear(in_features=768, out_features=768, bias=True)\n",
       "            (dropout): Dropout(p=0.1, inplace=False)\n",
       "          )\n",
       "          (output): BertSelfOutput(\n",
       "            (dense): Linear(in_features=768, out_features=768, bias=True)\n",
       "            (LayerNorm): LayerNorm((768,), eps=1e-12, elementwise_affine=True)\n",
       "            (dropout): Dropout(p=0.1, inplace=False)\n",
       "          )\n",
       "        )\n",
       "        (intermediate): BertIntermediate(\n",
       "          (dense): Linear(in_features=768, out_features=3072, bias=True)\n",
       "          (intermediate_act_fn): GELUActivation()\n",
       "        )\n",
       "        (output): BertOutput(\n",
       "          (dense): Linear(in_features=3072, out_features=768, bias=True)\n",
       "          (LayerNorm): LayerNorm((768,), eps=1e-12, elementwise_affine=True)\n",
       "          (dropout): Dropout(p=0.1, inplace=False)\n",
       "        )\n",
       "      )\n",
       "      (6): BertLayer(\n",
       "        (attention): BertAttention(\n",
       "          (self): BertSelfAttention(\n",
       "            (query): Linear(in_features=768, out_features=768, bias=True)\n",
       "            (key): Linear(in_features=768, out_features=768, bias=True)\n",
       "            (value): Linear(in_features=768, out_features=768, bias=True)\n",
       "            (dropout): Dropout(p=0.1, inplace=False)\n",
       "          )\n",
       "          (output): BertSelfOutput(\n",
       "            (dense): Linear(in_features=768, out_features=768, bias=True)\n",
       "            (LayerNorm): LayerNorm((768,), eps=1e-12, elementwise_affine=True)\n",
       "            (dropout): Dropout(p=0.1, inplace=False)\n",
       "          )\n",
       "        )\n",
       "        (intermediate): BertIntermediate(\n",
       "          (dense): Linear(in_features=768, out_features=3072, bias=True)\n",
       "          (intermediate_act_fn): GELUActivation()\n",
       "        )\n",
       "        (output): BertOutput(\n",
       "          (dense): Linear(in_features=3072, out_features=768, bias=True)\n",
       "          (LayerNorm): LayerNorm((768,), eps=1e-12, elementwise_affine=True)\n",
       "          (dropout): Dropout(p=0.1, inplace=False)\n",
       "        )\n",
       "      )\n",
       "      (7): BertLayer(\n",
       "        (attention): BertAttention(\n",
       "          (self): BertSelfAttention(\n",
       "            (query): Linear(in_features=768, out_features=768, bias=True)\n",
       "            (key): Linear(in_features=768, out_features=768, bias=True)\n",
       "            (value): Linear(in_features=768, out_features=768, bias=True)\n",
       "            (dropout): Dropout(p=0.1, inplace=False)\n",
       "          )\n",
       "          (output): BertSelfOutput(\n",
       "            (dense): Linear(in_features=768, out_features=768, bias=True)\n",
       "            (LayerNorm): LayerNorm((768,), eps=1e-12, elementwise_affine=True)\n",
       "            (dropout): Dropout(p=0.1, inplace=False)\n",
       "          )\n",
       "        )\n",
       "        (intermediate): BertIntermediate(\n",
       "          (dense): Linear(in_features=768, out_features=3072, bias=True)\n",
       "          (intermediate_act_fn): GELUActivation()\n",
       "        )\n",
       "        (output): BertOutput(\n",
       "          (dense): Linear(in_features=3072, out_features=768, bias=True)\n",
       "          (LayerNorm): LayerNorm((768,), eps=1e-12, elementwise_affine=True)\n",
       "          (dropout): Dropout(p=0.1, inplace=False)\n",
       "        )\n",
       "      )\n",
       "      (8): BertLayer(\n",
       "        (attention): BertAttention(\n",
       "          (self): BertSelfAttention(\n",
       "            (query): Linear(in_features=768, out_features=768, bias=True)\n",
       "            (key): Linear(in_features=768, out_features=768, bias=True)\n",
       "            (value): Linear(in_features=768, out_features=768, bias=True)\n",
       "            (dropout): Dropout(p=0.1, inplace=False)\n",
       "          )\n",
       "          (output): BertSelfOutput(\n",
       "            (dense): Linear(in_features=768, out_features=768, bias=True)\n",
       "            (LayerNorm): LayerNorm((768,), eps=1e-12, elementwise_affine=True)\n",
       "            (dropout): Dropout(p=0.1, inplace=False)\n",
       "          )\n",
       "        )\n",
       "        (intermediate): BertIntermediate(\n",
       "          (dense): Linear(in_features=768, out_features=3072, bias=True)\n",
       "          (intermediate_act_fn): GELUActivation()\n",
       "        )\n",
       "        (output): BertOutput(\n",
       "          (dense): Linear(in_features=3072, out_features=768, bias=True)\n",
       "          (LayerNorm): LayerNorm((768,), eps=1e-12, elementwise_affine=True)\n",
       "          (dropout): Dropout(p=0.1, inplace=False)\n",
       "        )\n",
       "      )\n",
       "      (9): BertLayer(\n",
       "        (attention): BertAttention(\n",
       "          (self): BertSelfAttention(\n",
       "            (query): Linear(in_features=768, out_features=768, bias=True)\n",
       "            (key): Linear(in_features=768, out_features=768, bias=True)\n",
       "            (value): Linear(in_features=768, out_features=768, bias=True)\n",
       "            (dropout): Dropout(p=0.1, inplace=False)\n",
       "          )\n",
       "          (output): BertSelfOutput(\n",
       "            (dense): Linear(in_features=768, out_features=768, bias=True)\n",
       "            (LayerNorm): LayerNorm((768,), eps=1e-12, elementwise_affine=True)\n",
       "            (dropout): Dropout(p=0.1, inplace=False)\n",
       "          )\n",
       "        )\n",
       "        (intermediate): BertIntermediate(\n",
       "          (dense): Linear(in_features=768, out_features=3072, bias=True)\n",
       "          (intermediate_act_fn): GELUActivation()\n",
       "        )\n",
       "        (output): BertOutput(\n",
       "          (dense): Linear(in_features=3072, out_features=768, bias=True)\n",
       "          (LayerNorm): LayerNorm((768,), eps=1e-12, elementwise_affine=True)\n",
       "          (dropout): Dropout(p=0.1, inplace=False)\n",
       "        )\n",
       "      )\n",
       "      (10): BertLayer(\n",
       "        (attention): BertAttention(\n",
       "          (self): BertSelfAttention(\n",
       "            (query): Linear(in_features=768, out_features=768, bias=True)\n",
       "            (key): Linear(in_features=768, out_features=768, bias=True)\n",
       "            (value): Linear(in_features=768, out_features=768, bias=True)\n",
       "            (dropout): Dropout(p=0.1, inplace=False)\n",
       "          )\n",
       "          (output): BertSelfOutput(\n",
       "            (dense): Linear(in_features=768, out_features=768, bias=True)\n",
       "            (LayerNorm): LayerNorm((768,), eps=1e-12, elementwise_affine=True)\n",
       "            (dropout): Dropout(p=0.1, inplace=False)\n",
       "          )\n",
       "        )\n",
       "        (intermediate): BertIntermediate(\n",
       "          (dense): Linear(in_features=768, out_features=3072, bias=True)\n",
       "          (intermediate_act_fn): GELUActivation()\n",
       "        )\n",
       "        (output): BertOutput(\n",
       "          (dense): Linear(in_features=3072, out_features=768, bias=True)\n",
       "          (LayerNorm): LayerNorm((768,), eps=1e-12, elementwise_affine=True)\n",
       "          (dropout): Dropout(p=0.1, inplace=False)\n",
       "        )\n",
       "      )\n",
       "      (11): BertLayer(\n",
       "        (attention): BertAttention(\n",
       "          (self): BertSelfAttention(\n",
       "            (query): Linear(in_features=768, out_features=768, bias=True)\n",
       "            (key): Linear(in_features=768, out_features=768, bias=True)\n",
       "            (value): Linear(in_features=768, out_features=768, bias=True)\n",
       "            (dropout): Dropout(p=0.1, inplace=False)\n",
       "          )\n",
       "          (output): BertSelfOutput(\n",
       "            (dense): Linear(in_features=768, out_features=768, bias=True)\n",
       "            (LayerNorm): LayerNorm((768,), eps=1e-12, elementwise_affine=True)\n",
       "            (dropout): Dropout(p=0.1, inplace=False)\n",
       "          )\n",
       "        )\n",
       "        (intermediate): BertIntermediate(\n",
       "          (dense): Linear(in_features=768, out_features=3072, bias=True)\n",
       "          (intermediate_act_fn): GELUActivation()\n",
       "        )\n",
       "        (output): BertOutput(\n",
       "          (dense): Linear(in_features=3072, out_features=768, bias=True)\n",
       "          (LayerNorm): LayerNorm((768,), eps=1e-12, elementwise_affine=True)\n",
       "          (dropout): Dropout(p=0.1, inplace=False)\n",
       "        )\n",
       "      )\n",
       "    )\n",
       "  )\n",
       "  (pooler): BertPooler(\n",
       "    (dense): Linear(in_features=768, out_features=768, bias=True)\n",
       "    (activation): Tanh()\n",
       "  )\n",
       ")"
      ]
     },
     "execution_count": 5,
     "metadata": {},
     "output_type": "execute_result"
    }
   ],
   "source": [
    "device = torch.device(\"cuda\" if torch.cuda.is_available() else \"cpu\")\n",
    "bert = BertModel.from_pretrained(\"data/mBERT/fine\").to(device)\n",
    "bert.eval()"
   ]
  },
  {
   "cell_type": "code",
   "execution_count": 6,
   "metadata": {},
   "outputs": [],
   "source": [
    "def pooling_embedding(batch_word_ids, batch_embeddings):\n",
    "    processed_embeddings = []\n",
    "    \n",
    "    for word_ids, embeddings in zip(batch_word_ids, batch_embeddings):\n",
    "        shrunk_embeddings = []\n",
    "        current_embeddings = []\n",
    "        previous_word_idx = None\n",
    "        for i, word_idx in enumerate(word_ids):\n",
    "            if word_idx is None:\n",
    "                continue\n",
    "            if word_idx == previous_word_idx:\n",
    "                current_embeddings.append(embeddings[i])\n",
    "            else:\n",
    "                if current_embeddings:\n",
    "                    shrunk_embeddings.append(\n",
    "                        torch.mean(torch.stack(current_embeddings), dim=0)\n",
    "                    )\n",
    "                    current_embeddings.clear()\n",
    "                current_embeddings.append(embeddings[i])\n",
    "                previous_word_idx = word_idx\n",
    "        if current_embeddings:\n",
    "            shrunk_embeddings.append(\n",
    "                torch.mean(torch.stack(current_embeddings), dim=0)\n",
    "            )\n",
    "    \n",
    "        processed_embeddings.append(torch.stack(shrunk_embeddings))\n",
    "\n",
    "    return processed_embeddings\n",
    "                    "
   ]
  },
  {
   "cell_type": "code",
   "execution_count": 7,
   "metadata": {},
   "outputs": [],
   "source": [
    "class MultilingualDataset(Dataset):\n",
    "    def __init__(self, sentences, labels):\n",
    "        self.sentences = sentences\n",
    "        self.labels = labels\n",
    "\n",
    "    def __len__(self):\n",
    "        return len(self.labels)\n",
    "\n",
    "    def __getitem__(self, idx):\n",
    "        return self.sentences[idx].tolist(), torch.tensor(self.labels[idx].tolist(), dtype=int), idx\n",
    "    \n",
    "def collate_fn(batch):\n",
    "    sentences, labels, ids = zip(*batch)\n",
    "    # print([len(x) for x in sentences])\n",
    "    B = len(labels)\n",
    "    tokenized_inputs_list = [\n",
    "        tokenizer(sentence, is_split_into_words=True, truncation=True, return_tensors=\"pt\")\n",
    "        for sentence in sentences\n",
    "    ]\n",
    "    input_ids = [x[\"input_ids\"][0] for x in tokenized_inputs_list]\n",
    "    input_ids = pad_sequence(input_ids, batch_first=True, padding_value=0).to(device)\n",
    "    attention_mask = [x[\"attention_mask\"][0] for x in tokenized_inputs_list]\n",
    "    attention_mask = pad_sequence(attention_mask, batch_first=True, padding_value=0).to(device)\n",
    "    with torch.no_grad():\n",
    "        bert_output = bert(input_ids, attention_mask)\n",
    "    bert_embeddings = bert_output[\"last_hidden_state\"]\n",
    "    \n",
    "    word_ids = [x.word_ids() for x in tokenized_inputs_list]\n",
    "    pooled_embeddings = pooling_embedding(word_ids, bert_embeddings)\n",
    "    batch_embeddings = pad_sequence(pooled_embeddings, batch_first=True, padding_value=0)\n",
    "    # print(batch_embeddings.shape)\n",
    "    T = batch_embeddings.shape[1]   # The original length might be larger than T (at most 512)\n",
    "    labels = [x[:T] for x in labels]\n",
    "    sentences = [x[:T] for x in sentences]\n",
    "    batch_labels = pad_sequence(labels, batch_first=True, padding_value=-100)\n",
    "\n",
    "    L = max(len(word) for sentence in sentences for word in sentence)\n",
    "    batch_char_ids = torch.zeros(B, T, L, dtype=int)\n",
    "    for i in range(B):\n",
    "        for j in range(len(sentences[i])):\n",
    "            cur_word = sentences[i][j]\n",
    "            for k in range(len(cur_word)):\n",
    "                batch_char_ids[i][j][k] = chars2idx.get(cur_word[k], chars2idx[\"<unk>\"])\n",
    "    try:\n",
    "        assert batch_embeddings.shape[1] == batch_labels.shape[1], f\"batch_embeddings: {batch_embeddings.shape} batch_labels: {batch_labels.shape}\"\n",
    "        assert batch_embeddings.shape[1] == batch_char_ids.shape[1]\n",
    "    except:\n",
    "        print(T)\n",
    "        print(ids)\n",
    "        print(batch_embeddings.shape)\n",
    "        print(batch_char_ids.shape)\n",
    "    return batch_embeddings, batch_labels, batch_char_ids"
   ]
  },
  {
   "cell_type": "markdown",
   "metadata": {},
   "source": [
    "the next 2 blocks are used for testing"
   ]
  },
  {
   "cell_type": "code",
   "execution_count": 8,
   "metadata": {},
   "outputs": [
    {
     "name": "stdout",
     "output_type": "stream",
     "text": [
      "torch.Size([2, 17, 768]) torch.Size([2, 17]) torch.Size([2, 17, 1])\n"
     ]
    }
   ],
   "source": [
    "train_dataset = MultilingualDataset(sentences_train, tags_train)\n",
    "train_loader = DataLoader(\n",
    "    dataset=train_dataset,\n",
    "    batch_size=2,\n",
    "    collate_fn=collate_fn\n",
    ")\n",
    "for data in train_loader:\n",
    "    bert_embeddings, labels, char_ids = data\n",
    "    print(bert_embeddings.shape, labels.shape, char_ids.shape)\n",
    "    break"
   ]
  },
  {
   "cell_type": "code",
   "execution_count": 9,
   "metadata": {},
   "outputs": [
    {
     "name": "stdout",
     "output_type": "stream",
     "text": [
      "original labels size: [9, 3]\n",
      "[11, 5]\n"
     ]
    }
   ],
   "source": [
    "sentences = [train_dataset[2418][0], train_dataset[2419][0]]\n",
    "labels = [train_dataset[2418][1], train_dataset[2419][1]]\n",
    "print(f\"original labels size: {[len(x) for x in labels]}\")\n",
    "tokenized_inputs_list = [\n",
    "    tokenizer(sentence, is_split_into_words=True, truncation=True, return_tensors=\"pt\")\n",
    "    for sentence in sentences\n",
    "]\n",
    "input_ids = [x[\"input_ids\"][0] for x in tokenized_inputs_list]\n",
    "print([len(x) for x in input_ids])\n",
    "input_ids = pad_sequence(input_ids, batch_first=True, padding_value=0).to(device)\n",
    "attention_mask = [x[\"attention_mask\"][0] for x in tokenized_inputs_list]\n",
    "attention_mask = pad_sequence(attention_mask, batch_first=True, padding_value=0).to(device)\n",
    "with torch.no_grad():\n",
    "    bert_output = bert(input_ids, attention_mask)\n",
    "bert_embeddings = bert_output[\"last_hidden_state\"]\n",
    "word_ids = [x.word_ids() for x in tokenized_inputs_list]\n",
    "pooled_embeddings = pooling_embedding(word_ids, bert_embeddings)\n",
    "batch_embeddings = pad_sequence(pooled_embeddings, batch_first=True, padding_value=0)\n",
    "# print(batch_embeddings.shape)\n",
    "B = 2\n",
    "T = batch_embeddings.shape[1]\n",
    "labels = [x[:T] for x in labels]\n",
    "sentences = [x[:T] for x in sentences]\n",
    "batch_labels = pad_sequence(labels, batch_first=True, padding_value=-100)\n",
    "L = max(len(word) for sentence in sentences for word in sentence)\n",
    "batch_char_ids = torch.zeros(B, T, L, dtype=int)\n",
    "for i in range(B):\n",
    "    for j in range(len(sentences[i])):\n",
    "        cur_word = sentences[i][j]\n",
    "        for k in range(len(cur_word)):\n",
    "            try: \n",
    "                batch_char_ids[i][j][k] = chars2idx.get(cur_word[k], chars2idx[\"<unk>\"])\n",
    "            except:\n",
    "                print(i, j, k)"
   ]
  },
  {
   "cell_type": "markdown",
   "metadata": {},
   "source": [
    "# BiLSTM model training and evaluation"
   ]
  },
  {
   "cell_type": "code",
   "execution_count": 10,
   "metadata": {},
   "outputs": [],
   "source": [
    "# class BiLSTM(nn.Module):\n",
    "#     def __init__(\n",
    "#             self, input_size,\n",
    "#             lstm_hidden_dim, lstm_num_layers, lstm_dropout, \n",
    "#             linear_output_dim, label_size\n",
    "#         ):\n",
    "#         super().__init__()\n",
    "#         self.lstm = nn.LSTM(\n",
    "#             input_size=input_size,\n",
    "#             hidden_size=lstm_hidden_dim,\n",
    "#             num_layers=lstm_num_layers,\n",
    "#             batch_first=True,\n",
    "#             dropout=lstm_dropout,\n",
    "#             bidirectional=True\n",
    "#         )\n",
    "#         self.fc1 = nn.Linear(2 * lstm_hidden_dim, linear_output_dim)\n",
    "#         self.dropout = nn.Dropout(lstm_dropout)\n",
    "#         self.fc2 = nn.Linear(linear_output_dim, label_size)\n",
    "\n",
    "#     def forward(self, x):\n",
    "#         x, _ = self.lstm(x)\n",
    "#         x = self.dropout(F.elu(self.fc1(x), inplace=True))\n",
    "#         x = self.fc2(x)\n",
    "#         return x\n",
    "\n",
    "\n",
    "class BiLSTMNERwithCNN(nn.Module):\n",
    "    def __init__(self, target_size=8, embedding_dim=100, lstm_hidden_dim=256, lstm_layers=1, lstm_dropout=0.33, linear_dim=128):\n",
    "        super().__init__()        \n",
    "        self.dropout = nn.Dropout(0.33)\n",
    "#         self.embedding = nn.Embedding(vocab_size, embedding_dim, padding_idx=0)\n",
    "        self.fc = nn.Linear(embedding_dim, 30)\n",
    "        self.lstm = nn.LSTM(798, lstm_hidden_dim,num_layers=lstm_layers,batch_first=True, bidirectional=True) #dropout=lstm_dropout)\n",
    "        self.linear = nn.Linear(lstm_hidden_dim * 2, linear_dim)\n",
    "        self.elu = nn.ELU()\n",
    "        self.classifier = nn.Linear(linear_dim, target_size)\n",
    "        self.conv1d = nn.Conv1d(in_channels=768, out_channels=30, kernel_size=3, padding=1)\n",
    "        self.maxpool = nn.AdaptiveMaxPool1d(output_size=1)\n",
    "        \n",
    "    def forward(self, sentence):\n",
    "#         embeds = self.dropout(self.embedding(sentence))\n",
    "        batch_size, sequence_length, embedding_dim = sentence.size()\n",
    "        \n",
    "        cnn_out = self.conv1d(sentence.permute(0, 2, 1))\n",
    "        pool_out = self.maxpool(cnn_out)\n",
    "        embeds_2 = pool_out.permute(0, 2, 1)\n",
    "        embeds_2 = embeds_2.repeat(1, sequence_length, 1)\n",
    "        concatenated_tensor = torch.cat((sentence, embeds_2), dim=2)\n",
    "        lstm_out, _ = self.lstm(concatenated_tensor)\n",
    "        lstm_out = self.dropout(lstm_out)\n",
    "        linear_out = self.linear(lstm_out)\n",
    "        elu_out = self.elu(linear_out)\n",
    "        output = self.classifier(elu_out)\n",
    "        return output"
   ]
  },
  {
   "cell_type": "code",
   "execution_count": 11,
   "metadata": {},
   "outputs": [],
   "source": [
    "train_dataset = MultilingualDataset(sentences_train, tags_train)\n",
    "dev_dataset = MultilingualDataset(sentences_dev, tags_dev)\n",
    "test_dataset = MultilingualDataset(sentences_test, tags_test)\n",
    "train_loader = DataLoader(\n",
    "    dataset=train_dataset,\n",
    "    batch_size=16,\n",
    "    shuffle=True,\n",
    "    collate_fn=collate_fn\n",
    ")\n",
    "dev_loader = DataLoader(\n",
    "    dataset=dev_dataset,\n",
    "    batch_size=16,\n",
    "    shuffle=False,\n",
    "    collate_fn=collate_fn\n",
    ")\n",
    "# lstm_model = BiLSTM(\n",
    "#     input_size=768,\n",
    "#     lstm_hidden_dim=256, lstm_num_layers=2, lstm_dropout=0.33,\n",
    "#     linear_output_dim=128, label_size=len(idx2tags)\n",
    "# )\n",
    "lstm_model = BiLSTMNERwithCNN()\n",
    "\n",
    "lstm_model = lstm_model.to(device)\n",
    "\n",
    "criterion = nn.CrossEntropyLoss(ignore_index=-100)\n",
    "optimizer = Adam(lstm_model.parameters(), lr=1e-3)\n",
    "epochs = 10"
   ]
  },
  {
   "cell_type": "code",
   "execution_count": 13,
   "metadata": {},
   "outputs": [
    {
     "name": "stdout",
     "output_type": "stream",
     "text": [
      "Epoch: 1/10\n"
     ]
    },
    {
     "name": "stderr",
     "output_type": "stream",
     "text": [
      "Epoch: 1/10: 100%|██████████████████████████████████████████| 5007/5007 [07:15<00:00, 11.50it/s, acc=0.897, loss=0.304]\n",
      "Epoch: 1/10: 100%|█████████████████████████████████████████████████████████████████| 2507/2507 [02:45<00:00, 15.10it/s]\n"
     ]
    },
    {
     "name": "stdout",
     "output_type": "stream",
     "text": [
      "train_loss: 0.3043, train_acc: 0.8965, val_loss: 0.2404, val_acc: 0.8993\n",
      "val_precision: 0.8568, val_recall: 0.8307, val_f1: 0.8416\n",
      "Epoch: 2/10\n"
     ]
    },
    {
     "name": "stderr",
     "output_type": "stream",
     "text": [
      "Epoch: 2/10: 100%|██████████████████████████████████████████| 5007/5007 [07:25<00:00, 11.24it/s, acc=0.906, loss=0.273]\n",
      "Epoch: 2/10: 100%|█████████████████████████████████████████████████████████████████| 2507/2507 [02:47<00:00, 14.99it/s]\n"
     ]
    },
    {
     "name": "stdout",
     "output_type": "stream",
     "text": [
      "train_loss: 0.2728, train_acc: 0.9064, val_loss: 0.2282, val_acc: 0.9047\n",
      "val_precision: 0.8751, val_recall: 0.8282, val_f1: 0.8499\n",
      "Epoch: 3/10\n"
     ]
    },
    {
     "name": "stderr",
     "output_type": "stream",
     "text": [
      "Epoch: 3/10: 100%|██████████████████████████████████████████| 5007/5007 [07:18<00:00, 11.41it/s, acc=0.914, loss=0.248]\n",
      "Epoch: 3/10: 100%|█████████████████████████████████████████████████████████████████| 2507/2507 [02:46<00:00, 15.07it/s]\n"
     ]
    },
    {
     "name": "stdout",
     "output_type": "stream",
     "text": [
      "train_loss: 0.2483, train_acc: 0.9141, val_loss: 0.2232, val_acc: 0.9088\n",
      "val_precision: 0.8698, val_recall: 0.8421, val_f1: 0.8547\n",
      "Epoch: 4/10\n"
     ]
    },
    {
     "name": "stderr",
     "output_type": "stream",
     "text": [
      "Epoch: 4/10: 100%|███████████████████████████████████████████| 5007/5007 [07:22<00:00, 11.33it/s, acc=0.92, loss=0.229]\n",
      "Epoch: 4/10: 100%|█████████████████████████████████████████████████████████████████| 2507/2507 [02:45<00:00, 15.16it/s]\n"
     ]
    },
    {
     "name": "stdout",
     "output_type": "stream",
     "text": [
      "train_loss: 0.2289, train_acc: 0.9198, val_loss: 0.2252, val_acc: 0.9077\n",
      "val_precision: 0.8752, val_recall: 0.8363, val_f1: 0.8537\n",
      "Epoch: 5/10\n"
     ]
    },
    {
     "name": "stderr",
     "output_type": "stream",
     "text": [
      "Epoch: 5/10: 100%|███████████████████████████████████████████| 5007/5007 [07:24<00:00, 11.25it/s, acc=0.926, loss=0.21]\n",
      "Epoch: 5/10: 100%|█████████████████████████████████████████████████████████████████| 2507/2507 [02:41<00:00, 15.49it/s]\n"
     ]
    },
    {
     "name": "stdout",
     "output_type": "stream",
     "text": [
      "train_loss: 0.2098, train_acc: 0.9265, val_loss: 0.2188, val_acc: 0.9107\n",
      "val_precision: 0.8763, val_recall: 0.8433, val_f1: 0.8587\n",
      "Epoch: 6/10\n"
     ]
    },
    {
     "name": "stderr",
     "output_type": "stream",
     "text": [
      "Epoch: 6/10: 100%|██████████████████████████████████████████| 5007/5007 [07:19<00:00, 11.40it/s, acc=0.931, loss=0.196]\n",
      "Epoch: 6/10: 100%|█████████████████████████████████████████████████████████████████| 2507/2507 [02:47<00:00, 14.93it/s]\n"
     ]
    },
    {
     "name": "stdout",
     "output_type": "stream",
     "text": [
      "train_loss: 0.1956, train_acc: 0.9307, val_loss: 0.2376, val_acc: 0.9121\n",
      "val_precision: 0.8713, val_recall: 0.8522, val_f1: 0.8614\n",
      "Epoch: 7/10\n"
     ]
    },
    {
     "name": "stderr",
     "output_type": "stream",
     "text": [
      "Epoch: 7/10: 100%|██████████████████████████████████████████| 5007/5007 [07:19<00:00, 11.39it/s, acc=0.936, loss=0.182]\n",
      "Epoch: 7/10: 100%|█████████████████████████████████████████████████████████████████| 2507/2507 [02:43<00:00, 15.33it/s]\n"
     ]
    },
    {
     "name": "stdout",
     "output_type": "stream",
     "text": [
      "train_loss: 0.1817, train_acc: 0.9356, val_loss: 0.2305, val_acc: 0.9098\n",
      "val_precision: 0.8636, val_recall: 0.8594, val_f1: 0.8613\n",
      "Epoch: 8/10\n"
     ]
    },
    {
     "name": "stderr",
     "output_type": "stream",
     "text": [
      "Epoch: 8/10: 100%|██████████████████████████████████████████| 5007/5007 [07:16<00:00, 11.47it/s, acc=0.939, loss=0.171]\n",
      "Epoch: 8/10: 100%|█████████████████████████████████████████████████████████████████| 2507/2507 [02:40<00:00, 15.62it/s]\n"
     ]
    },
    {
     "name": "stdout",
     "output_type": "stream",
     "text": [
      "train_loss: 0.1712, train_acc: 0.9393, val_loss: 0.2506, val_acc: 0.9094\n",
      "val_precision: 0.8708, val_recall: 0.8500, val_f1: 0.8598\n",
      "Epoch: 9/10\n"
     ]
    },
    {
     "name": "stderr",
     "output_type": "stream",
     "text": [
      "Epoch: 9/10: 100%|██████████████████████████████████████████| 5007/5007 [07:16<00:00, 11.46it/s, acc=0.943, loss=0.161]\n",
      "Epoch: 9/10: 100%|█████████████████████████████████████████████████████████████████| 2507/2507 [02:48<00:00, 14.87it/s]\n"
     ]
    },
    {
     "name": "stdout",
     "output_type": "stream",
     "text": [
      "train_loss: 0.1609, train_acc: 0.9429, val_loss: 0.2566, val_acc: 0.9102\n",
      "val_precision: 0.8629, val_recall: 0.8575, val_f1: 0.8601\n",
      "Epoch: 10/10\n"
     ]
    },
    {
     "name": "stderr",
     "output_type": "stream",
     "text": [
      "Epoch: 10/10: 100%|█████████████████████████████████████████| 5007/5007 [07:13<00:00, 11.55it/s, acc=0.945, loss=0.153]\n",
      "Epoch: 10/10: 100%|████████████████████████████████████████████████████████████████| 2507/2507 [02:41<00:00, 15.49it/s]\n"
     ]
    },
    {
     "name": "stdout",
     "output_type": "stream",
     "text": [
      "train_loss: 0.1532, train_acc: 0.9448, val_loss: 0.2552, val_acc: 0.9097\n",
      "val_precision: 0.8731, val_recall: 0.8423, val_f1: 0.8571\n"
     ]
    }
   ],
   "source": [
    "best_loss = torch.inf\n",
    "best_acc = 0\n",
    "for epoch in range(epochs):\n",
    "    print(f'Epoch: {epoch + 1}/{epochs}')\n",
    "    train_loss = 0\n",
    "    cur_total = 0\n",
    "    correct = 0\n",
    "    amount = 0\n",
    "    lstm_model.train()\n",
    "    train_loop = tqdm(train_loader, desc=f'Epoch: {epoch + 1}/{epochs}')\n",
    "    for bert_embeddings, labels, char_ids in train_loop:\n",
    "        B = bert_embeddings.shape[0]\n",
    "        bert_embeddings = bert_embeddings.to(device)\n",
    "        labels = labels.to(device)\n",
    "\n",
    "        optimizer.zero_grad()\n",
    "        logits = lstm_model(bert_embeddings)\n",
    "        logits_reshape = logits.view(-1, logits.shape[-1])\n",
    "        labels_reshape = labels.view(-1)\n",
    "        loss = criterion(logits_reshape, labels_reshape)\n",
    "        loss.backward()\n",
    "        optimizer.step()\n",
    "\n",
    "        train_loss += loss.cpu().item() * B\n",
    "\n",
    "        mask = labels_reshape != -100\n",
    "        \n",
    "        logits_non_pad = logits_reshape[mask]\n",
    "        labels_non_pad = labels_reshape[mask]\n",
    "\n",
    "        _, predictions = torch.max(logits_non_pad, 1)\n",
    "        correct += sum(predictions == labels_non_pad)\n",
    "        amount += len(labels_non_pad)\n",
    "\n",
    "        cur_total += B\n",
    "        running_loss = train_loss / cur_total\n",
    "        running_acc = correct / amount\n",
    "        train_loop.set_postfix(loss=running_loss, acc=running_acc.item())\n",
    "\n",
    "    train_loss /= len(train_dataset)\n",
    "    train_acc = correct / amount\n",
    "\n",
    "    dev_loss = 0\n",
    "    y_true, y_pred = [], []\n",
    "    correct = 0\n",
    "    amount = 0\n",
    "    lstm_model.eval()\n",
    "    dev_loop = tqdm(dev_loader, desc=f'Epoch: {epoch + 1}/{epochs}')\n",
    "    with torch.no_grad():\n",
    "        for bert_embeddings, labels, char_ids in dev_loop:\n",
    "            B = bert_embeddings.shape[0]\n",
    "            bert_embeddings = bert_embeddings.to(device)\n",
    "            labels = labels.to(device)\n",
    "\n",
    "            logits = lstm_model(bert_embeddings)\n",
    "            logits_reshape = logits.view(-1, logits.shape[-1])\n",
    "            labels_reshape = labels.view(-1)\n",
    "            loss = criterion(logits_reshape, labels_reshape)\n",
    "            dev_loss += loss.cpu().item() * B\n",
    "            \n",
    "            mask = labels_reshape != -100\n",
    "            logits_non_pad = logits_reshape[mask]\n",
    "            labels_non_pad = labels_reshape[mask]\n",
    "\n",
    "            _, predictions = torch.max(logits_non_pad, 1)\n",
    "            correct += sum(predictions == labels_non_pad)\n",
    "            amount += len(labels_non_pad)\n",
    "            y_pred.extend(predictions.cpu())\n",
    "            y_true.extend(labels_non_pad.cpu())\n",
    "\n",
    "    dev_loss /= len(dev_dataset)\n",
    "    val_acc = correct / amount\n",
    "    val_precision, val_recall, val_f1, _ = precision_recall_fscore_support(y_true, y_pred, average='macro', zero_division=0)\n",
    "    print('train_loss: {:.4f}, train_acc: {:.4f}, val_loss: {:.4f}, val_acc: {:.4f}'.format(train_loss, train_acc, dev_loss, val_acc))\n",
    "    print('val_precision: {:.4f}, val_recall: {:.4f}, val_f1: {:.4f}'.format(val_precision, val_recall, val_f1))\n",
    "\n",
    "#     if dev_loss < best_loss:\n",
    "#         print(f\"update dev_loss from {best_loss} -> {dev_loss}\")\n",
    "#         best_loss = dev_loss\n",
    "#         torch.save(lstm_model.state_dict(), \"best_channel.pt\")\n",
    "    if val_acc > best_acc:\n",
    "#         print(f\"update dev_loss from {best_loss} -> {dev_loss}\")\n",
    "        best_acc = val_acc\n",
    "        torch.save(lstm_model.state_dict(), \"best_channel.pt\")"
   ]
  },
  {
   "cell_type": "code",
   "execution_count": 12,
   "metadata": {},
   "outputs": [
    {
     "data": {
      "text/plain": [
       "<All keys matched successfully>"
      ]
     },
     "execution_count": 12,
     "metadata": {},
     "output_type": "execute_result"
    }
   ],
   "source": [
    "state_dict = torch.load(\"best_channel.pt\")\n",
    "lstm_model.load_state_dict(state_dict)"
   ]
  },
  {
   "cell_type": "markdown",
   "metadata": {},
   "source": [
    "## Evaluation"
   ]
  },
  {
   "cell_type": "code",
   "execution_count": 14,
   "metadata": {},
   "outputs": [],
   "source": [
    "seqeval = evaluate.load(\"seqeval\")"
   ]
  },
  {
   "cell_type": "code",
   "execution_count": 15,
   "metadata": {},
   "outputs": [
    {
     "name": "stderr",
     "output_type": "stream",
     "text": [
      "100%|████████████████████████████████████████████████████████████████████████████| 80100/80100 [23:51<00:00, 55.94it/s]\n"
     ]
    }
   ],
   "source": [
    "train_predictions = []\n",
    "train_references = []\n",
    "lstm_model.eval()\n",
    "train_loader = DataLoader(\n",
    "    dataset=train_dataset,\n",
    "    batch_size=1,   # use batch_size=1 => no padding needed\n",
    "    shuffle=False,\n",
    "    collate_fn=collate_fn\n",
    ")\n",
    "for bert_embeddings, labels, char_ids in tqdm(train_loader):\n",
    "    bert_embeddings = bert_embeddings.to(device)\n",
    "    with torch.no_grad():\n",
    "        logits = lstm_model(bert_embeddings)\n",
    "    logit = logits[0].cpu()\n",
    "    label = labels[0]\n",
    "    _, prediction = torch.max(logit, dim=1)\n",
    "    assert len(prediction) == len(label)\n",
    "    prediction_tag, reference_tag = [], []\n",
    "    for p_idx, r_idx in zip(prediction, label):\n",
    "        prediction_tag.append(idx2tags[p_idx.item()])\n",
    "        reference_tag.append(idx2tags[r_idx.item()])\n",
    "    train_predictions.append(prediction_tag)\n",
    "    train_references.append(reference_tag)"
   ]
  },
  {
   "cell_type": "code",
   "execution_count": 16,
   "metadata": {},
   "outputs": [
    {
     "data": {
      "text/plain": [
       "{'LOC': {'precision': 0.7070236009481604,\n",
       "  'recall': 0.7144233272585264,\n",
       "  'f1': 0.7107042034653337,\n",
       "  'number': 38410},\n",
       " 'ORG': {'precision': 0.5663513351694408,\n",
       "  'recall': 0.6927786729163615,\n",
       "  'f1': 0.6232178152589275,\n",
       "  'number': 34135},\n",
       " 'PER': {'precision': 0.756505379193386,\n",
       "  'recall': 0.8176949074869679,\n",
       "  'f1': 0.7859109177999228,\n",
       "  'number': 34914},\n",
       " 'overall_precision': 0.6731583618612907,\n",
       " 'overall_recall': 0.7411012572236854,\n",
       " 'overall_f1': 0.7054977764391134,\n",
       " 'overall_accuracy': 0.9260698160482358}"
      ]
     },
     "execution_count": 16,
     "metadata": {},
     "output_type": "execute_result"
    }
   ],
   "source": [
    "train_result = seqeval.compute(predictions=train_predictions, references=train_references)\n",
    "train_result"
   ]
  },
  {
   "cell_type": "code",
   "execution_count": 17,
   "metadata": {},
   "outputs": [
    {
     "name": "stderr",
     "output_type": "stream",
     "text": [
      "100%|████████████████████████████████████████████████████████████████████████████| 40100/40100 [12:09<00:00, 54.94it/s]\n"
     ]
    }
   ],
   "source": [
    "dev_predictions = []\n",
    "dev_references = []\n",
    "lstm_model.eval()\n",
    "dev_loader = DataLoader(\n",
    "    dataset=dev_dataset,\n",
    "    batch_size=1,   # use batch_size=1 => no padding needed\n",
    "    shuffle=False,\n",
    "    collate_fn=collate_fn\n",
    ")\n",
    "for bert_embeddings, labels, char_ids in tqdm(dev_loader):\n",
    "    bert_embeddings = bert_embeddings.to(device)\n",
    "    with torch.no_grad():\n",
    "        logits = lstm_model(bert_embeddings)\n",
    "    logit = logits[0].cpu()\n",
    "    label = labels[0]\n",
    "    _, prediction = torch.max(logit, dim=1)\n",
    "    assert len(prediction) == len(label)\n",
    "    prediction_tag, reference_tag = [], []\n",
    "    for p_idx, r_idx in zip(prediction, label):\n",
    "        prediction_tag.append(idx2tags[p_idx.item()])\n",
    "        reference_tag.append(idx2tags[r_idx.item()])\n",
    "    dev_predictions.append(prediction_tag)\n",
    "    dev_references.append(reference_tag)"
   ]
  },
  {
   "cell_type": "code",
   "execution_count": 18,
   "metadata": {},
   "outputs": [
    {
     "data": {
      "text/plain": [
       "{'LOC': {'precision': 0.6830333649089569,\n",
       "  'recall': 0.6733942098163329,\n",
       "  'f1': 0.6781795380917547,\n",
       "  'number': 19274},\n",
       " 'ORG': {'precision': 0.5298558347944672,\n",
       "  'recall': 0.6765547263681592,\n",
       "  'f1': 0.5942860264394187,\n",
       "  'number': 16080},\n",
       " 'PER': {'precision': 0.7335970613167562,\n",
       "  'recall': 0.7841135608577469,\n",
       "  'f1': 0.7580145985401459,\n",
       "  'number': 16555},\n",
       " 'overall_precision': 0.6437121040032151,\n",
       " 'overall_recall': 0.7096842551388006,\n",
       " 'overall_f1': 0.6750902527075812,\n",
       " 'overall_accuracy': 0.8930089503400488}"
      ]
     },
     "execution_count": 18,
     "metadata": {},
     "output_type": "execute_result"
    }
   ],
   "source": [
    "dev_result = seqeval.compute(predictions=dev_predictions, references=dev_references)\n",
    "dev_result"
   ]
  },
  {
   "cell_type": "code",
   "execution_count": 19,
   "metadata": {},
   "outputs": [
    {
     "name": "stderr",
     "output_type": "stream",
     "text": [
      "100%|████████████████████████████████████████████████████████████████████████████| 40100/40100 [12:32<00:00, 53.27it/s]\n"
     ]
    }
   ],
   "source": [
    "test_predictions = []\n",
    "test_references = []\n",
    "lstm_model.eval()\n",
    "test_loader = DataLoader(\n",
    "    dataset=test_dataset,\n",
    "    batch_size=1,   # use batch_size=1 => no padding needed\n",
    "    shuffle=False,\n",
    "    collate_fn=collate_fn\n",
    ")\n",
    "for bert_embeddings, labels, char_ids in tqdm(test_loader):\n",
    "    bert_embeddings = bert_embeddings.to(device)\n",
    "    with torch.no_grad():\n",
    "        logits = lstm_model(bert_embeddings)\n",
    "    logit = logits[0].cpu()\n",
    "    label = labels[0]\n",
    "    _, prediction = torch.max(logit, dim=1)\n",
    "    assert len(prediction) == len(label)\n",
    "    prediction_tag, reference_tag = [], []\n",
    "    for p_idx, r_idx in zip(prediction, label):\n",
    "        prediction_tag.append(idx2tags[p_idx.item()])\n",
    "        reference_tag.append(idx2tags[r_idx.item()])\n",
    "    test_predictions.append(prediction_tag)\n",
    "    test_references.append(reference_tag)"
   ]
  },
  {
   "cell_type": "code",
   "execution_count": 20,
   "metadata": {},
   "outputs": [
    {
     "data": {
      "text/plain": [
       "{'LOC': {'precision': 0.6720250629140774,\n",
       "  'recall': 0.6686596146967142,\n",
       "  'f1': 0.6703381147540984,\n",
       "  'number': 19569},\n",
       " 'ORG': {'precision': 0.5002611461943878,\n",
       "  'recall': 0.6233581824636137,\n",
       "  'f1': 0.5550667755446094,\n",
       "  'number': 16902},\n",
       " 'PER': {'precision': 0.7081172610858292,\n",
       "  'recall': 0.7780232558139535,\n",
       "  'f1': 0.7414261177904592,\n",
       "  'number': 17200},\n",
       " 'overall_precision': 0.6226316675079926,\n",
       " 'overall_recall': 0.6894412252426823,\n",
       " 'overall_f1': 0.6543355054331969,\n",
       " 'overall_accuracy': 0.8909087079646696}"
      ]
     },
     "execution_count": 20,
     "metadata": {},
     "output_type": "execute_result"
    }
   ],
   "source": [
    "test_result = seqeval.compute(predictions=test_predictions, references=test_references)\n",
    "test_result"
   ]
  },
  {
   "cell_type": "code",
   "execution_count": 19,
   "metadata": {},
   "outputs": [],
   "source": [
    "train_tokens = []\n",
    "assert len(train_dataset) == len(train_predictions)\n",
    "for i in range(len(train_dataset)):\n",
    "    token = train_dataset[i][0]\n",
    "    prediction = train_predictions[i]\n",
    "    assert len(token) >= len(prediction)\n",
    "    if len(token) != len(prediction):\n",
    "        token = token[:len(prediction)]\n",
    "    train_tokens.append(token)\n",
    "\n",
    "dev_tokens = []\n",
    "assert len(dev_dataset) == len(dev_predictions)\n",
    "for i in range(len(dev_dataset)):\n",
    "    token = dev_dataset[i][0]\n",
    "    prediction = dev_predictions[i]\n",
    "    assert len(token) >= len(prediction)\n",
    "    if len(token) != len(prediction):\n",
    "        token = token[:len(prediction)]\n",
    "    dev_tokens.append(token)\n",
    "\n",
    "test_tokens = []\n",
    "assert len(test_dataset) == len(test_predictions)\n",
    "for i in range(len(test_dataset)):\n",
    "    token = test_dataset[i][0]\n",
    "    prediction = test_predictions[i]\n",
    "    assert len(token) >= len(prediction)\n",
    "    if len(token) != len(prediction):\n",
    "        token = token[:len(prediction)]\n",
    "    test_tokens.append(token)\n",
    "\n",
    "train_df = pd.DataFrame({\n",
    "    \"tokens\": train_tokens,\n",
    "    \"predictions\": train_predictions\n",
    "})\n",
    "dev_df = pd.DataFrame({\n",
    "    \"tokens\": dev_tokens,\n",
    "    \"predictions\": dev_predictions\n",
    "})\n",
    "test_df = pd.DataFrame({\n",
    "    \"tokens\": test_tokens,\n",
    "    \"predictions\": test_predictions\n",
    "})\n",
    "\n",
    "train_df.to_csv(\"Channel_train.csv\")\n",
    "dev_df.to_csv(\"Channel_dev.csv\")\n",
    "test_df.to_csv(\"Channel_test.csv\")"
   ]
  },
  {
   "cell_type": "code",
   "execution_count": null,
   "metadata": {},
   "outputs": [],
   "source": []
  }
 ],
 "metadata": {
  "kernelspec": {
   "display_name": "py375",
   "language": "python",
   "name": "561"
  },
  "language_info": {
   "codemirror_mode": {
    "name": "ipython",
    "version": 3
   },
   "file_extension": ".py",
   "mimetype": "text/x-python",
   "name": "python",
   "nbconvert_exporter": "python",
   "pygments_lexer": "ipython3",
   "version": "3.7.5"
  }
 },
 "nbformat": 4,
 "nbformat_minor": 2
}
