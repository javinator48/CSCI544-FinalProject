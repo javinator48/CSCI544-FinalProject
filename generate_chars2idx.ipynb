{
 "cells": [
  {
   "cell_type": "markdown",
   "id": "eb6ad615",
   "metadata": {},
   "source": [
    "# Generate a fixed char2idx.json file for the CharCNN"
   ]
  },
  {
   "cell_type": "code",
   "execution_count": 1,
   "id": "7d5f9281",
   "metadata": {},
   "outputs": [
    {
     "name": "stderr",
     "output_type": "stream",
     "text": [
      "d:\\annaconda3\\envs\\nlp1\\lib\\site-packages\\tqdm\\auto.py:21: TqdmWarning: IProgress not found. Please update jupyter and ipywidgets. See https://ipywidgets.readthedocs.io/en/stable/user_install.html\n",
      "  from .autonotebook import tqdm as notebook_tqdm\n"
     ]
    }
   ],
   "source": [
    "import json"
   ]
  },
  {
   "cell_type": "code",
   "execution_count": 27,
   "id": "a533811b",
   "metadata": {},
   "outputs": [
    {
     "name": "stdout",
     "output_type": "stream",
     "text": [
      "10000\n"
     ]
    }
   ],
   "source": [
    "vocab_path = \"data/mBERT/of/vocab.txt\"\n",
    "with open(vocab_path, 'r') as f:\n",
    "    words = f.readlines()\n",
    "    chars = set([char for word in words for char in word])\n",
    "\n",
    "chars2idx = {char: idx + 1 for idx, char in enumerate(chars)}\n",
    "chars2idx[\"<unk>\"] = 0\n",
    "print(len(chars2idx))\n",
    "\n",
    "with open(\"data/merge/chars2idx.json\", \"w\") as json_file:\n",
    "    json.dump(chars2idx, json_file, indent=\"\\n\")"
   ]
  }
 ],
 "metadata": {
  "kernelspec": {
   "display_name": "nlp1",
   "language": "python",
   "name": "python3"
  },
  "language_info": {
   "codemirror_mode": {
    "name": "ipython",
    "version": 3
   },
   "file_extension": ".py",
   "mimetype": "text/x-python",
   "name": "python",
   "nbconvert_exporter": "python",
   "pygments_lexer": "ipython3",
   "version": "3.9.18"
  }
 },
 "nbformat": 4,
 "nbformat_minor": 5
}
