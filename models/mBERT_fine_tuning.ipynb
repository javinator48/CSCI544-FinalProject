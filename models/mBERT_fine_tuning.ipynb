{
 "cells": [
  {
   "cell_type": "code",
   "execution_count": 3,
   "id": "2a54ac01",
   "metadata": {
    "scrolled": true
   },
   "outputs": [
    {
     "name": "stderr",
     "output_type": "stream",
     "text": [
      "Some weights of the model checkpoint at C:\\Users\\monkeydc\\544\\PROJECT\\data\\mBERT\\of were not used when initializing BertModel: ['cls.predictions.transform.dense.bias', 'cls.predictions.transform.dense.weight', 'cls.predictions.transform.LayerNorm.weight', 'cls.predictions.transform.LayerNorm.bias', 'cls.predictions.decoder.weight', 'cls.predictions.bias', 'cls.seq_relationship.bias', 'cls.seq_relationship.weight']\n",
      "- This IS expected if you are initializing BertModel from the checkpoint of a model trained on another task or with another architecture (e.g. initializing a BertForSequenceClassification model from a BertForPreTraining model).\n",
      "- This IS NOT expected if you are initializing BertModel from the checkpoint of a model that you expect to be exactly identical (initializing a BertForSequenceClassification model from a BertForSequenceClassification model).\n"
     ]
    }
   ],
   "source": [
    "# samples\n",
    "# from transformers import BertTokenizer, BertModel\n",
    "# raw_model_path = r\"C:\\Users\\monkeydc\\544\\PROJECT\\data\\mBERT\\of\"\n",
    "# tokenizer = BertTokenizer.from_pretrained(raw_model_path)\n",
    "# model = BertModel.from_pretrained(raw_model_path)\n",
    "# text = \"Replace me by any text you'd like.\"\n",
    "# encoded_input = tokenizer(text, return_tensors='pt')\n",
    "# output = model(**encoded_input)"
   ]
  },
  {
   "cell_type": "markdown",
   "id": "53b8111a",
   "metadata": {},
   "source": [
    "# Load BERT"
   ]
  },
  {
   "cell_type": "code",
   "execution_count": 5,
   "id": "4546d4c9",
   "metadata": {
    "scrolled": true
   },
   "outputs": [
    {
     "name": "stderr",
     "output_type": "stream",
     "text": [
      "Some weights of the model checkpoint at C:\\Users\\monkeydc\\544\\PROJECT\\data\\mBERT\\of were not used when initializing BertModel: ['cls.predictions.transform.dense.bias', 'cls.predictions.transform.dense.weight', 'cls.predictions.transform.LayerNorm.weight', 'cls.predictions.transform.LayerNorm.bias', 'cls.predictions.decoder.weight', 'cls.predictions.bias', 'cls.seq_relationship.bias', 'cls.seq_relationship.weight']\n",
      "- This IS expected if you are initializing BertModel from the checkpoint of a model trained on another task or with another architecture (e.g. initializing a BertForSequenceClassification model from a BertForPreTraining model).\n",
      "- This IS NOT expected if you are initializing BertModel from the checkpoint of a model that you expect to be exactly identical (initializing a BertForSequenceClassification model from a BertForSequenceClassification model).\n"
     ]
    }
   ],
   "source": [
    "from transformers import BertTokenizer, BertModel\n",
    "raw_model_path = r\"C:\\Users\\monkeydc\\544\\PROJECT\\data\\mBERT\\of\"\n",
    "tokenizer = BertTokenizer.from_pretrained(raw_model_path)\n",
    "model = BertModel.from_pretrained(raw_model_path)"
   ]
  },
  {
   "cell_type": "markdown",
   "id": "38c3717a",
   "metadata": {},
   "source": [
    "# Load Dataset"
   ]
  },
  {
   "cell_type": "code",
   "execution_count": 8,
   "id": "8b1fdcef",
   "metadata": {},
   "outputs": [],
   "source": [
    "import pandas as pd\n",
    "from pandas import read_parquet"
   ]
  },
  {
   "cell_type": "code",
   "execution_count": 11,
   "id": "d0d1273f",
   "metadata": {},
   "outputs": [],
   "source": [
    "data_train = read_parquet(r\"C:\\Users\\monkeydc\\544\\PROJECT\\data\\merge\\raw.parquet\")\n",
    "data_test = read_parquet(r\"C:\\Users\\monkeydc\\544\\PROJECT\\data\\merge\\test.parquet\")"
   ]
  },
  {
   "cell_type": "code",
   "execution_count": 14,
   "id": "b4ed4fda",
   "metadata": {
    "scrolled": false
   },
   "outputs": [
    {
     "data": {
      "text/html": [
       "<div>\n",
       "<style scoped>\n",
       "    .dataframe tbody tr th:only-of-type {\n",
       "        vertical-align: middle;\n",
       "    }\n",
       "\n",
       "    .dataframe tbody tr th {\n",
       "        vertical-align: top;\n",
       "    }\n",
       "\n",
       "    .dataframe thead th {\n",
       "        text-align: right;\n",
       "    }\n",
       "</style>\n",
       "<table border=\"1\" class=\"dataframe\">\n",
       "  <thead>\n",
       "    <tr style=\"text-align: right;\">\n",
       "      <th></th>\n",
       "      <th>tokens</th>\n",
       "      <th>ner_tags</th>\n",
       "      <th>langs</th>\n",
       "      <th>spans</th>\n",
       "    </tr>\n",
       "  </thead>\n",
       "  <tbody>\n",
       "    <tr>\n",
       "      <th>0</th>\n",
       "      <td>[#, ヌ, ン, チ, ャ, ク, バ, ン, キ, ：, 吉, 水, 孝, 宏]</td>\n",
       "      <td>[0, 0, 0, 0, 0, 0, 0, 0, 0, 0, 1, 2, 2, 2]</td>\n",
       "      <td>[ja, ja, ja, ja, ja, ja, ja, ja, ja, ja, ja, j...</td>\n",
       "      <td>[PER: 吉 水 孝 宏]</td>\n",
       "    </tr>\n",
       "    <tr>\n",
       "      <th>1</th>\n",
       "      <td>[:, #, テ, レ, ビ, 東, 京, 系, ア, ニ, メ, 『, ジ, ュ, エ, ...</td>\n",
       "      <td>[0, 0, 3, 4, 4, 4, 4, 0, 0, 0, 0, 0, 3, 4, 4, ...</td>\n",
       "      <td>[ja, ja, ja, ja, ja, ja, ja, ja, ja, ja, ja, j...</td>\n",
       "      <td>[ORG: テ レ ビ 東 京, ORG: ジ ュ エ ル ペ ッ ト, ORG: ハ ッ ...</td>\n",
       "    </tr>\n",
       "    <tr>\n",
       "      <th>2</th>\n",
       "      <td>[#, ゆ, う, ち, ょ, 銀, 行, A, T, M]</td>\n",
       "      <td>[0, 3, 4, 4, 4, 4, 4, 3, 4, 4]</td>\n",
       "      <td>[ja, ja, ja, ja, ja, ja, ja, ja, ja, ja]</td>\n",
       "      <td>[ORG: ゆ う ち ょ 銀 行, ORG: A T M]</td>\n",
       "    </tr>\n",
       "    <tr>\n",
       "      <th>3</th>\n",
       "      <td>[', ', ', ノ, ー, ネ, ', ', ', (, ', ', ', N, o, ...</td>\n",
       "      <td>[0, 0, 0, 0, 0, 0, 0, 0, 0, 0, 0, 0, 0, 0, 0, ...</td>\n",
       "      <td>[ja, ja, ja, ja, ja, ja, ja, ja, ja, ja, ja, j...</td>\n",
       "      <td>[LOC: イ タ リ ア 共 和 国, LOC: ピ エ モ ン テ 州, LOC: ト ...</td>\n",
       "    </tr>\n",
       "    <tr>\n",
       "      <th>4</th>\n",
       "      <td>[#, ', ', ', バ, ー, リ, 県, ', ', ']</td>\n",
       "      <td>[0, 0, 0, 0, 5, 6, 6, 6, 0, 0, 0]</td>\n",
       "      <td>[ja, ja, ja, ja, ja, ja, ja, ja, ja, ja, ja]</td>\n",
       "      <td>[LOC: バ ー リ 県]</td>\n",
       "    </tr>\n",
       "  </tbody>\n",
       "</table>\n",
       "</div>"
      ],
      "text/plain": [
       "                                              tokens  \\\n",
       "0         [#, ヌ, ン, チ, ャ, ク, バ, ン, キ, ：, 吉, 水, 孝, 宏]   \n",
       "1  [:, #, テ, レ, ビ, 東, 京, 系, ア, ニ, メ, 『, ジ, ュ, エ, ...   \n",
       "2                     [#, ゆ, う, ち, ょ, 銀, 行, A, T, M]   \n",
       "3  [', ', ', ノ, ー, ネ, ', ', ', (, ', ', ', N, o, ...   \n",
       "4                  [#, ', ', ', バ, ー, リ, 県, ', ', ']   \n",
       "\n",
       "                                            ner_tags  \\\n",
       "0         [0, 0, 0, 0, 0, 0, 0, 0, 0, 0, 1, 2, 2, 2]   \n",
       "1  [0, 0, 3, 4, 4, 4, 4, 0, 0, 0, 0, 0, 3, 4, 4, ...   \n",
       "2                     [0, 3, 4, 4, 4, 4, 4, 3, 4, 4]   \n",
       "3  [0, 0, 0, 0, 0, 0, 0, 0, 0, 0, 0, 0, 0, 0, 0, ...   \n",
       "4                  [0, 0, 0, 0, 5, 6, 6, 6, 0, 0, 0]   \n",
       "\n",
       "                                               langs  \\\n",
       "0  [ja, ja, ja, ja, ja, ja, ja, ja, ja, ja, ja, j...   \n",
       "1  [ja, ja, ja, ja, ja, ja, ja, ja, ja, ja, ja, j...   \n",
       "2           [ja, ja, ja, ja, ja, ja, ja, ja, ja, ja]   \n",
       "3  [ja, ja, ja, ja, ja, ja, ja, ja, ja, ja, ja, j...   \n",
       "4       [ja, ja, ja, ja, ja, ja, ja, ja, ja, ja, ja]   \n",
       "\n",
       "                                               spans  \n",
       "0                                     [PER: 吉 水 孝 宏]  \n",
       "1  [ORG: テ レ ビ 東 京, ORG: ジ ュ エ ル ペ ッ ト, ORG: ハ ッ ...  \n",
       "2                     [ORG: ゆ う ち ょ 銀 行, ORG: A T M]  \n",
       "3  [LOC: イ タ リ ア 共 和 国, LOC: ピ エ モ ン テ 州, LOC: ト ...  \n",
       "4                                     [LOC: バ ー リ 県]  "
      ]
     },
     "execution_count": 14,
     "metadata": {},
     "output_type": "execute_result"
    }
   ],
   "source": [
    "data_train.head()"
   ]
  },
  {
   "cell_type": "code",
   "execution_count": 15,
   "id": "60f689c5",
   "metadata": {
    "scrolled": true
   },
   "outputs": [
    {
     "data": {
      "text/html": [
       "<div>\n",
       "<style scoped>\n",
       "    .dataframe tbody tr th:only-of-type {\n",
       "        vertical-align: middle;\n",
       "    }\n",
       "\n",
       "    .dataframe tbody tr th {\n",
       "        vertical-align: top;\n",
       "    }\n",
       "\n",
       "    .dataframe thead th {\n",
       "        text-align: right;\n",
       "    }\n",
       "</style>\n",
       "<table border=\"1\" class=\"dataframe\">\n",
       "  <thead>\n",
       "    <tr style=\"text-align: right;\">\n",
       "      <th></th>\n",
       "      <th>tokens</th>\n",
       "      <th>ner_tags</th>\n",
       "      <th>langs</th>\n",
       "      <th>spans</th>\n",
       "    </tr>\n",
       "  </thead>\n",
       "  <tbody>\n",
       "    <tr>\n",
       "      <th>0</th>\n",
       "      <td>[#, ヌ, ン, チ, ャ, ク, バ, ン, キ, ：, 吉, 水, 孝, 宏]</td>\n",
       "      <td>[0, 0, 0, 0, 0, 0, 0, 0, 0, 0, 1, 2, 2, 2]</td>\n",
       "      <td>[ja, ja, ja, ja, ja, ja, ja, ja, ja, ja, ja, j...</td>\n",
       "      <td>[PER: 吉 水 孝 宏]</td>\n",
       "    </tr>\n",
       "    <tr>\n",
       "      <th>1</th>\n",
       "      <td>[:, #, テ, レ, ビ, 東, 京, 系, ア, ニ, メ, 『, ジ, ュ, エ, ...</td>\n",
       "      <td>[0, 0, 3, 4, 4, 4, 4, 0, 0, 0, 0, 0, 3, 4, 4, ...</td>\n",
       "      <td>[ja, ja, ja, ja, ja, ja, ja, ja, ja, ja, ja, j...</td>\n",
       "      <td>[ORG: テ レ ビ 東 京, ORG: ジ ュ エ ル ペ ッ ト, ORG: ハ ッ ...</td>\n",
       "    </tr>\n",
       "    <tr>\n",
       "      <th>2</th>\n",
       "      <td>[#, ゆ, う, ち, ょ, 銀, 行, A, T, M]</td>\n",
       "      <td>[0, 3, 4, 4, 4, 4, 4, 3, 4, 4]</td>\n",
       "      <td>[ja, ja, ja, ja, ja, ja, ja, ja, ja, ja]</td>\n",
       "      <td>[ORG: ゆ う ち ょ 銀 行, ORG: A T M]</td>\n",
       "    </tr>\n",
       "    <tr>\n",
       "      <th>3</th>\n",
       "      <td>[', ', ', ノ, ー, ネ, ', ', ', (, ', ', ', N, o, ...</td>\n",
       "      <td>[0, 0, 0, 0, 0, 0, 0, 0, 0, 0, 0, 0, 0, 0, 0, ...</td>\n",
       "      <td>[ja, ja, ja, ja, ja, ja, ja, ja, ja, ja, ja, j...</td>\n",
       "      <td>[LOC: イ タ リ ア 共 和 国, LOC: ピ エ モ ン テ 州, LOC: ト ...</td>\n",
       "    </tr>\n",
       "    <tr>\n",
       "      <th>4</th>\n",
       "      <td>[#, ', ', ', バ, ー, リ, 県, ', ', ']</td>\n",
       "      <td>[0, 0, 0, 0, 5, 6, 6, 6, 0, 0, 0]</td>\n",
       "      <td>[ja, ja, ja, ja, ja, ja, ja, ja, ja, ja, ja]</td>\n",
       "      <td>[LOC: バ ー リ 県]</td>\n",
       "    </tr>\n",
       "  </tbody>\n",
       "</table>\n",
       "</div>"
      ],
      "text/plain": [
       "                                              tokens  \\\n",
       "0         [#, ヌ, ン, チ, ャ, ク, バ, ン, キ, ：, 吉, 水, 孝, 宏]   \n",
       "1  [:, #, テ, レ, ビ, 東, 京, 系, ア, ニ, メ, 『, ジ, ュ, エ, ...   \n",
       "2                     [#, ゆ, う, ち, ょ, 銀, 行, A, T, M]   \n",
       "3  [', ', ', ノ, ー, ネ, ', ', ', (, ', ', ', N, o, ...   \n",
       "4                  [#, ', ', ', バ, ー, リ, 県, ', ', ']   \n",
       "\n",
       "                                            ner_tags  \\\n",
       "0         [0, 0, 0, 0, 0, 0, 0, 0, 0, 0, 1, 2, 2, 2]   \n",
       "1  [0, 0, 3, 4, 4, 4, 4, 0, 0, 0, 0, 0, 3, 4, 4, ...   \n",
       "2                     [0, 3, 4, 4, 4, 4, 4, 3, 4, 4]   \n",
       "3  [0, 0, 0, 0, 0, 0, 0, 0, 0, 0, 0, 0, 0, 0, 0, ...   \n",
       "4                  [0, 0, 0, 0, 5, 6, 6, 6, 0, 0, 0]   \n",
       "\n",
       "                                               langs  \\\n",
       "0  [ja, ja, ja, ja, ja, ja, ja, ja, ja, ja, ja, j...   \n",
       "1  [ja, ja, ja, ja, ja, ja, ja, ja, ja, ja, ja, j...   \n",
       "2           [ja, ja, ja, ja, ja, ja, ja, ja, ja, ja]   \n",
       "3  [ja, ja, ja, ja, ja, ja, ja, ja, ja, ja, ja, j...   \n",
       "4       [ja, ja, ja, ja, ja, ja, ja, ja, ja, ja, ja]   \n",
       "\n",
       "                                               spans  \n",
       "0                                     [PER: 吉 水 孝 宏]  \n",
       "1  [ORG: テ レ ビ 東 京, ORG: ジ ュ エ ル ペ ッ ト, ORG: ハ ッ ...  \n",
       "2                     [ORG: ゆ う ち ょ 銀 行, ORG: A T M]  \n",
       "3  [LOC: イ タ リ ア 共 和 国, LOC: ピ エ モ ン テ 州, LOC: ト ...  \n",
       "4                                     [LOC: バ ー リ 県]  "
      ]
     },
     "execution_count": 15,
     "metadata": {},
     "output_type": "execute_result"
    }
   ],
   "source": [
    "data_test.head()"
   ]
  },
  {
   "cell_type": "code",
   "execution_count": 6,
   "id": "f3dee721",
   "metadata": {},
   "outputs": [
    {
     "ename": "NameError",
     "evalue": "name 'example' is not defined",
     "output_type": "error",
     "traceback": [
      "\u001b[1;31m---------------------------------------------------------------------------\u001b[0m",
      "\u001b[1;31mNameError\u001b[0m                                 Traceback (most recent call last)",
      "\u001b[1;32m~\\AppData\\Local\\Temp\\ipykernel_23964\\1016407936.py\u001b[0m in \u001b[0;36m<module>\u001b[1;34m\u001b[0m\n\u001b[1;32m----> 1\u001b[1;33m text_tokenized = tokenizer(example, padding='max_length',\n\u001b[0m\u001b[0;32m      2\u001b[0m                            \u001b[0mmax_length\u001b[0m\u001b[1;33m=\u001b[0m\u001b[1;36m512\u001b[0m\u001b[1;33m,\u001b[0m \u001b[0mtruncation\u001b[0m\u001b[1;33m=\u001b[0m\u001b[1;32mTrue\u001b[0m\u001b[1;33m,\u001b[0m\u001b[1;33m\u001b[0m\u001b[1;33m\u001b[0m\u001b[0m\n\u001b[0;32m      3\u001b[0m                            return_tensors=\"pt\")\n",
      "\u001b[1;31mNameError\u001b[0m: name 'example' is not defined"
     ]
    }
   ],
   "source": [
    "text_tokenized = tokenizer(example, padding='max_length',\n",
    "                           max_length=512, truncation=True,\n",
    "                           return_tensors=\"pt\")"
   ]
  },
  {
   "cell_type": "code",
   "execution_count": null,
   "id": "a6764f5d",
   "metadata": {},
   "outputs": [],
   "source": []
  }
 ],
 "metadata": {
  "kernelspec": {
   "display_name": "py375",
   "language": "python",
   "name": "561"
  },
  "language_info": {
   "codemirror_mode": {
    "name": "ipython",
    "version": 3
   },
   "file_extension": ".py",
   "mimetype": "text/x-python",
   "name": "python",
   "nbconvert_exporter": "python",
   "pygments_lexer": "ipython3",
   "version": "3.7.5"
  }
 },
 "nbformat": 4,
 "nbformat_minor": 5
}
