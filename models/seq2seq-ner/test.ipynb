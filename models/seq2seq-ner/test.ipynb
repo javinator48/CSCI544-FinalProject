{
 "cells": [
  {
   "cell_type": "code",
   "execution_count": 15,
   "metadata": {},
   "outputs": [],
   "source": [
    "from datasets import load_dataset\n",
    "from transformers import AutoTokenizer\n",
    "dataset = load_dataset(\"conll2003\")\n",
    "tokenizer = AutoTokenizer.from_pretrained(\"t5-base\")\n"
   ]
  },
  {
   "cell_type": "code",
   "execution_count": 26,
   "metadata": {},
   "outputs": [
    {
     "name": "stdout",
     "output_type": "stream",
     "text": [
      "['EU', 'rejects', 'German', 'call', 'to', 'boycott', 'British', 'lamb', '.']\n",
      "[0, 1, 1, 2, 3, 4, 5, 6, 7, 8, 8, None]\n",
      "{'input_ids': tensor([[ 3371, 15092,     7,  2968,   580,    12, 30242,  2390, 17871,     3,\n",
      "             5,     1]]), 'attention_mask': tensor([[1, 1, 1, 1, 1, 1, 1, 1, 1, 1, 1, 1]])}\n",
      "[3, 0, 7, 0, 0, 0, 7, 0, 0]\n",
      "['▁EU', '▁reject', 's', '▁German', '▁call', '▁to', '▁boycott', '▁British', '▁lamb', '▁', '.', '</s>']\n"
     ]
    }
   ],
   "source": [
    "input_data=dataset['train'][0]\n",
    "tokenized_input = tokenizer(input_data['tokens'], return_tensors=\"pt\", padding=True, truncation=True, max_length=128,is_split_into_words=True)\n",
    "print(input_data['tokens'])\n",
    "print(tokenized_input.word_ids())\n",
    "print(tokenized_input)\n",
    "print(input_data['ner_tags'])\n",
    "print(tokenizer.convert_ids_to_tokens(tokenized_input[\"input_ids\"][0]))"
   ]
  },
  {
   "cell_type": "code",
   "execution_count": 32,
   "metadata": {},
   "outputs": [],
   "source": [
    "input_sequence = \"my name is mike\"\n",
    "tokenized_input = tokenizer(input_sequence, return_tensors=\"pt\", padding=True, truncation=True, max_length=128)"
   ]
  },
  {
   "cell_type": "code",
   "execution_count": 23,
   "metadata": {},
   "outputs": [
    {
     "name": "stderr",
     "output_type": "stream",
     "text": [
      "/home/hjz/.pyenv/versions/3.11.7/lib/python3.11/site-packages/transformers/generation/utils.py:1132: UserWarning: Using the model-agnostic default `max_length` (=20) to control the generation length. We recommend setting `max_new_tokens` to control the maximum length of the generation.\n",
      "  warnings.warn(\n"
     ]
    }
   ],
   "source": [
    "from transformers import AutoModelForSeq2SeqLM\n",
    "import torch\n",
    "model = AutoModelForSeq2SeqLM.from_pretrained(\"output/checkpoint-2500\")\n",
    "model.eval()"
   ]
  },
  {
   "cell_type": "code",
   "execution_count": 33,
   "metadata": {},
   "outputs": [
    {
     "name": "stdout",
     "output_type": "stream",
     "text": [
      "tensor([[0, 0, 0, 0, 0, 0, 0, 0, 0, 0, 0, 0, 0, 0, 0, 0, 0, 0, 0, 0]])\n"
     ]
    }
   ],
   "source": [
    "with torch.no_grad():\n",
    "    outputs = model.generate(**tokenized_input)\n",
    "    print(outputs)"
   ]
  }
 ],
 "metadata": {
  "kernelspec": {
   "display_name": "Python 3",
   "language": "python",
   "name": "python3"
  },
  "language_info": {
   "codemirror_mode": {
    "name": "ipython",
    "version": 3
   },
   "file_extension": ".py",
   "mimetype": "text/x-python",
   "name": "python",
   "nbconvert_exporter": "python",
   "pygments_lexer": "ipython3",
   "version": "3.11.7"
  }
 },
 "nbformat": 4,
 "nbformat_minor": 2
}
