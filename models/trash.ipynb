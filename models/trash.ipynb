{
 "cells": [
  {
   "cell_type": "code",
   "execution_count": 1,
   "id": "9a0c8876",
   "metadata": {},
   "outputs": [
    {
     "name": "stderr",
     "output_type": "stream",
     "text": [
      "C:\\Users\\monkeydc\\.conda\\envs\\561\\lib\\site-packages\\tqdm\\auto.py:22: TqdmWarning: IProgress not found. Please update jupyter and ipywidgets. See https://ipywidgets.readthedocs.io/en/stable/user_install.html\n",
      "  from .autonotebook import tqdm as notebook_tqdm\n"
     ]
    }
   ],
   "source": [
    "import json\n",
    "import torch\n",
    "import pandas as pd\n",
    "from pandas import read_parquet\n",
    "from transformers import BertModel\n",
    "from torch.utils.data import DataLoader\n",
    "from transformers import BertTokenizerFast, AutoTokenizer"
   ]
  },
  {
   "cell_type": "code",
   "execution_count": 7,
   "id": "ae48ceda",
   "metadata": {
    "scrolled": true
   },
   "outputs": [
    {
     "name": "stderr",
     "output_type": "stream",
     "text": [
      "Some weights of the model checkpoint at C:\\Users\\monkeydc\\544\\PROJECT\\data\\mBERT\\of were not used when initializing BertForTokenClassification: ['cls.predictions.transform.dense.weight', 'cls.predictions.transform.LayerNorm.weight', 'cls.predictions.transform.LayerNorm.bias', 'cls.seq_relationship.bias', 'cls.predictions.transform.dense.bias', 'cls.seq_relationship.weight', 'cls.predictions.decoder.weight', 'cls.predictions.bias']\n",
      "- This IS expected if you are initializing BertForTokenClassification from the checkpoint of a model trained on another task or with another architecture (e.g. initializing a BertForSequenceClassification model from a BertForPreTraining model).\n",
      "- This IS NOT expected if you are initializing BertForTokenClassification from the checkpoint of a model that you expect to be exactly identical (initializing a BertForSequenceClassification model from a BertForSequenceClassification model).\n",
      "Some weights of BertForTokenClassification were not initialized from the model checkpoint at C:\\Users\\monkeydc\\544\\PROJECT\\data\\mBERT\\of and are newly initialized: ['classifier.weight', 'classifier.bias']\n",
      "You should probably TRAIN this model on a down-stream task to be able to use it for predictions and inference.\n"
     ]
    }
   ],
   "source": [
    "from transformers import BertForTokenClassification\n",
    "raw_model_path = r\"C:\\Users\\monkeydc\\544\\PROJECT\\data\\mBERT\\of\"\n",
    "bert_x = BertForTokenClassification.from_pretrained(raw_model_path, num_labels=9)"
   ]
  },
  {
   "cell_type": "code",
   "execution_count": 8,
   "id": "38063839",
   "metadata": {},
   "outputs": [],
   "source": [
    "bert_model = bert_x.bert # only save bert part\n",
    "torch.save(bert_model.state_dict(), r'C:\\Users\\monkeydc\\544\\PROJECT\\data\\mBERT\\fine\\pytorch_model_ass.bin')"
   ]
  },
  {
   "cell_type": "code",
   "execution_count": 9,
   "id": "e97c00f4",
   "metadata": {},
   "outputs": [
    {
     "name": "stderr",
     "output_type": "stream",
     "text": [
      "Some weights of BertModel were not initialized from the model checkpoint at C:\\Users\\monkeydc\\544\\PROJECT\\data\\mBERT\\fine and are newly initialized: ['pooler.dense.weight', 'pooler.dense.bias']\n",
      "You should probably TRAIN this model on a down-stream task to be able to use it for predictions and inference.\n"
     ]
    }
   ],
   "source": [
    "fine_model_path = r'C:\\Users\\monkeydc\\544\\PROJECT\\data\\mBERT\\fine'\n",
    "tokenizer = BertTokenizerFast.from_pretrained(fine_model_path,is_split_into_words=True)\n",
    "model_reload = BertModel.from_pretrained(fine_model_path)"
   ]
  },
  {
   "cell_type": "code",
   "execution_count": null,
   "id": "76a2afa9",
   "metadata": {},
   "outputs": [],
   "source": []
  }
 ],
 "metadata": {
  "kernelspec": {
   "display_name": "py375",
   "language": "python",
   "name": "561"
  },
  "language_info": {
   "codemirror_mode": {
    "name": "ipython",
    "version": 3
   },
   "file_extension": ".py",
   "mimetype": "text/x-python",
   "name": "python",
   "nbconvert_exporter": "python",
   "pygments_lexer": "ipython3",
   "version": "3.7.5"
  }
 },
 "nbformat": 4,
 "nbformat_minor": 5
}
